{
 "cells": [
  {
   "cell_type": "markdown",
   "metadata": {
    "id": "168YUOMq-SrL"
   },
   "source": [
    "# **Art Classifier**\n",
    "\n",
    "## **Non Structured Data**\n",
    "\n",
    "This project has been done by:\n",
    "\n",
    "|Name                    |Email                              |\n",
    "|------------------------|-----------------------------------|\n",
    "|Jorge Ayuso Martínez    |jorgeayusomartinez@alu.comillas.edu|\n",
    "|Carlota Monedero Herranz|carlotamoh@alu.comillas.edu        |\n",
    "|José Manuel Vega Gradit |josemanuel.vega@alu.comillas.edu   |"
   ]
  },
  {
   "cell_type": "markdown",
   "metadata": {
    "id": "3w6rBQM0_o7T"
   },
   "source": [
    "First of all, let's load the required libraries in order to run the code:"
   ]
  },
  {
   "cell_type": "code",
   "execution_count": null,
   "metadata": {
    "id": "Rh87ovI1-TCv"
   },
   "outputs": [],
   "source": [
    "import os\n",
    "import numpy as np\n",
    "\n",
    "import tensorflow.keras as keras\n",
    "from tensorflow.keras import optimizers\n",
    "from tensorflow.keras import models, layers\n",
    "from tensorflow.keras.preprocessing import image\n",
    "from tensorflow.keras.preprocessing.image import ImageDataGenerator\n",
    "\n",
    "import matplotlib.pyplot as plt\n",
    "import seaborn as sns"
   ]
  },
  {
   "cell_type": "code",
   "execution_count": null,
   "metadata": {
    "colab": {
     "base_uri": "https://localhost:8080/"
    },
    "id": "xquC0TGTAmaS",
    "outputId": "c534595e-bf15-49ba-a97b-c7a93fe04bd4"
   },
   "outputs": [],
   "source": [
    "# If using Google Drive\n",
    "# from google.colab import drive\n",
    "# drive.mount('/content/drive')"
   ]
  },
  {
   "cell_type": "markdown",
   "metadata": {
    "id": "D8x-hAiaAblq"
   },
   "source": [
    "Now let's see how our data is structured:"
   ]
  },
  {
   "cell_type": "code",
   "execution_count": 8,
   "metadata": {
    "id": "pIfrW7zx-TEX"
   },
   "outputs": [],
   "source": [
    "# Root folder\n",
    "base_dir = \"./data\""
   ]
  },
  {
   "cell_type": "code",
   "execution_count": 12,
   "metadata": {
    "id": "4A14qVrGMomZ"
   },
   "outputs": [],
   "source": [
    "# Train folder\n",
    "train_dir = os.path.join(base_dir, \"train\")\n",
    "\n",
    "# Validation folder\n",
    "validation_dir = os.path.join(base_dir, \"validation\")\n",
    "\n",
    "# Test folder\n",
    "test_dir = os.path.join(base_dir, \"test\")"
   ]
  },
  {
   "cell_type": "code",
   "execution_count": 10,
   "metadata": {
    "id": "SbUFXSW7-TGZ"
   },
   "outputs": [],
   "source": [
    "# See folder names inside root folder\n",
    "for path in os.walk(base_dir):\n",
    "    for folder in path[1]:\n",
    "        print(folder)"
   ]
  },
  {
   "cell_type": "markdown",
   "metadata": {
    "id": "FWvgTz7ejmF0"
   },
   "source": [
    "Let's also see how many images there are for each class in the training, validation and test set."
   ]
  },
  {
   "cell_type": "code",
   "execution_count": null,
   "metadata": {
    "id": "oGDiubz2jmOT"
   },
   "outputs": [],
   "source": [
    "# Number of classes\n",
    "n_classes = len(os.listdir(train_dir))\n",
    "print(f\"Number of classes: {n_classes}\")\n",
    "\n",
    "# Get existing classes\n",
    "classes = os.listdir(train_dir)\n",
    "print(\"Existing classes:\\n\")\n",
    "classes"
   ]
  },
  {
   "cell_type": "code",
   "execution_count": null,
   "metadata": {
    "id": "fmhnayouqYQl"
   },
   "outputs": [],
   "source": [
    "# Training\n",
    "print(\"Number of images per class in Training set:\")\n",
    "print(\"=\"*50)\n",
    "for cl in classes:\n",
    "    n_images = len(os.listdir(os.path.join(train_dir, cl)))\n",
    "    print(f\"{cl}: {n_images}\")"
   ]
  },
  {
   "cell_type": "code",
   "execution_count": null,
   "metadata": {
    "id": "_nBKldzsrTm1"
   },
   "outputs": [],
   "source": [
    "# Validation\n",
    "print(\"Number of images per class in Validation set:\")\n",
    "print(\"=\"*50)\n",
    "for cl in classes:\n",
    "    n_images = len(os.listdir(os.path.join(validation_dir, cl)))\n",
    "    print(f\"{cl}: {n_images}\")"
   ]
  },
  {
   "cell_type": "code",
   "execution_count": null,
   "metadata": {
    "id": "8aFWVYRKrTzw"
   },
   "outputs": [],
   "source": [
    "# Test\n",
    "print(\"Number of images per class in Test set:\")\n",
    "print(\"=\"*50)\n",
    "for cl in classes:\n",
    "    n_images = len(os.listdir(os.path.join(test_dir, cl)))\n",
    "    print(f\"{cl}: {n_images}\")"
   ]
  },
  {
   "cell_type": "markdown",
   "metadata": {
    "id": "lR3pXpNODl6O",
    "jp-MarkdownHeadingCollapsed": true,
    "tags": []
   },
   "source": [
    "## **1. Base model**\n",
    "\n",
    "The first model we will create is a simple CNN. This will help us to have a general idea of how a very simple model would perform classifying art images, and try to improve this model by, for instance: \n",
    "\n",
    "* Upsampling the training dataset using Data Augmentation.\n",
    "* Using regularization techniques such as $𝓛_1$, $𝓛_2$ or dropout.\n",
    "* Incrementing the number of parameters of the CNN.\n",
    "* Using pre-trained models (Transfer-Learning and Fine-Tuning)."
   ]
  },
  {
   "cell_type": "markdown",
   "metadata": {
    "id": "ksRFFq2-WgBw"
   },
   "source": [
    "### 1.1. Model structure\n",
    "\n",
    "Let's first create the model structure:"
   ]
  },
  {
   "cell_type": "code",
   "execution_count": null,
   "metadata": {
    "id": "35S_bt4t-TIX"
   },
   "outputs": [],
   "source": [
    "model = models.Sequential()\n",
    "# 1st Convolution Layer\n",
    "model.add(layers.Conv2D(32, (3, 3), activation='relu',\n",
    "                        input_shape=(150, 150, 3)\n",
    "                        )\n",
    ")\n",
    "# 1st Pooling Layer\n",
    "model.add(layers.MaxPooling2D((2, 2)))\n",
    "# 2nd Convolution Layer\n",
    "model.add(layers.Conv2D(64\n",
    "                        , (3, 3)\n",
    "                        , activation='relu'\n",
    "                        )\n",
    ")\n",
    "# 2nd Pooling Layer\n",
    "model.add(layers.MaxPooling2D((2, 2)))\n",
    "# 3rd Convolution Layer\n",
    "model.add(layers.Conv2D(128, \n",
    "                        (3, 3), \n",
    "                        activation='relu'\n",
    "                        )\n",
    ")\n",
    "# 3rd Pooling Layer\n",
    "model.add(layers.MaxPooling2D((2, 2)))\n",
    "# 4th Convolution Layer\n",
    "model.add(layers.Conv2D(128, \n",
    "                        (3, 3), \n",
    "                        activation='relu'\n",
    "                        )\n",
    ")\n",
    "# 4th Pooling Layer\n",
    "model.add(layers.MaxPooling2D((2, 2)))\n",
    "model.add(layers.Flatten())\n",
    "model.add(layers.Dense(512, activation='relu'))\n",
    "model.add(layers.Dense(10, activation='softmax'))"
   ]
  },
  {
   "cell_type": "markdown",
   "metadata": {
    "id": "R9Juyt3rLCKk"
   },
   "source": [
    "Once the structure of the base model has been defined, let's see exactly how many parameters it has in order to have a better idea of how flexible this model is:"
   ]
  },
  {
   "cell_type": "code",
   "execution_count": null,
   "metadata": {
    "id": "Zqn2mE-n-TKl"
   },
   "outputs": [],
   "source": [
    "model.summary()"
   ]
  },
  {
   "cell_type": "markdown",
   "metadata": {
    "id": "DB3cPq2nLVaR"
   },
   "source": [
    "We'll use Adam as our optimizer since it is the most popular optimizer right now, as well as versatile (i.e., it can be used in multiple contexts)."
   ]
  },
  {
   "cell_type": "code",
   "execution_count": null,
   "metadata": {
    "id": "-PG_KXks-TMm"
   },
   "outputs": [],
   "source": [
    "model.compile(\n",
    "    loss='binary_crossentropy',\n",
    "    optimizer=optimizers.Adam(lr=1e-4),\n",
    "    metrics=['acc']\n",
    ")"
   ]
  },
  {
   "cell_type": "markdown",
   "metadata": {
    "id": "q3I-ZQfNMUej"
   },
   "source": [
    "### 1.2. Data preprocessing\n",
    "\n",
    "A critical step when creating these kind of models is how the input data is preprocessed. These involves:\n",
    "\n",
    "* Normalize the input by dividing each pixel by its maximum value (i.e, 255).\n",
    "* Define the input size, which affects to the final model.\n",
    "* Batch size: this is the number of images in each batch."
   ]
  },
  {
   "cell_type": "code",
   "execution_count": null,
   "metadata": {
    "id": "rF9cfUPS-TO1"
   },
   "outputs": [],
   "source": [
    "# All images will be rescaled by 1./255\n",
    "train_datagen = ImageDataGenerator(rescale=1./255)\n",
    "test_datagen = ImageDataGenerator(rescale=1./255)\n",
    "\n",
    "train_generator = train_datagen.flow_from_directory(\n",
    "        # This is the target directory\n",
    "        train_dir,\n",
    "        # All images will be resized to 150x150\n",
    "        target_size=(150, 150),\n",
    "        batch_size=20,\n",
    "        # We use raw to get predicted probabilities\n",
    "        class_mode='raw'\n",
    "        )\n",
    "\n",
    "validation_generator = test_datagen.flow_from_directory(\n",
    "        validation_dir,\n",
    "        target_size=(150, 150),\n",
    "        batch_size=20,\n",
    "        class_mode='raw'\n",
    "        )"
   ]
  },
  {
   "cell_type": "markdown",
   "metadata": {
    "id": "3y0iM-VXQovT"
   },
   "source": [
    "Now let's take a look at the output of one of these generators (for instance, the training one):"
   ]
  },
  {
   "cell_type": "code",
   "execution_count": null,
   "metadata": {
    "id": "1Jf4AvO_-TRW"
   },
   "outputs": [],
   "source": [
    "for data_batch, labels_batch in train_generator:\n",
    "    print('data batch shape:', data_batch.shape)\n",
    "    print('labels batch shape:', labels_batch.shape)\n",
    "    break"
   ]
  },
  {
   "cell_type": "markdown",
   "metadata": {
    "id": "C7W1pa92Q3MK"
   },
   "source": [
    "*We can appreciate that...*"
   ]
  },
  {
   "cell_type": "markdown",
   "metadata": {
    "id": "ZoO2Da0IR51Y"
   },
   "source": [
    "### 1.3. Training\n",
    "\n",
    "Let's train the model:"
   ]
  },
  {
   "cell_type": "code",
   "execution_count": null,
   "metadata": {
    "id": "wrYxrr1OQ6qH"
   },
   "outputs": [],
   "source": [
    "history = model.fit_generator(\n",
    "      train_generator,\n",
    "      steps_per_epoch=100,\n",
    "      epochs=3,\n",
    "      validation_data=validation_generator,\n",
    "      validation_steps=50\n",
    "      )"
   ]
  },
  {
   "cell_type": "markdown",
   "metadata": {
    "id": "nP1qkE26SCvp"
   },
   "source": [
    "And once the model has been trained, we will save it:"
   ]
  },
  {
   "cell_type": "code",
   "execution_count": null,
   "metadata": {
    "id": "R6ScrxYY-TTQ"
   },
   "outputs": [],
   "source": [
    "# Create directory where to save the models created\n",
    "models_dir = \"/content/drive/MyDrive/models\"\n",
    "os.makedirs(models_dir, exist_ok=True)\n",
    "\n",
    "# Directory where to save the model\n",
    "\n",
    "# Save model\n",
    "base_model_dir = os.path.join(models_dir, \"model_v0.h5\")\n",
    "model.save(base_model_dir)"
   ]
  },
  {
   "cell_type": "markdown",
   "metadata": {
    "id": "JWuATgMUS8bI"
   },
   "source": [
    "### 1.4. Validation\n",
    "\n",
    "Let's plot how the loss and the accuracy from both training and validations sets have evolved during the training process. "
   ]
  },
  {
   "cell_type": "code",
   "execution_count": null,
   "metadata": {
    "id": "kXvSCIRP-TVZ"
   },
   "outputs": [],
   "source": [
    "acc = history.history['acc']\n",
    "val_acc = history.history['val_acc']\n",
    "loss = history.history['loss']\n",
    "val_loss = history.history['val_loss']\n",
    "\n",
    "epochs = range(len(acc))\n",
    "\n",
    "plt.plot(epochs, acc, 'bo', label='Training acc')\n",
    "plt.plot(epochs, val_acc, 'b', label='Validation acc')\n",
    "plt.title('Training and validation accuracy')\n",
    "plt.legend()\n",
    "\n",
    "plt.figure()\n",
    "\n",
    "plt.plot(epochs, loss, 'bo', label='Training loss')\n",
    "plt.plot(epochs, val_loss, 'b', label='Validation loss')\n",
    "plt.title('Training and validation loss')\n",
    "plt.legend()\n",
    "\n",
    "plt.show()"
   ]
  },
  {
   "cell_type": "markdown",
   "metadata": {
    "id": "pQg4z_l8Tbj9"
   },
   "source": [
    "*Comments about how those metrics have evolved...*"
   ]
  },
  {
   "cell_type": "markdown",
   "metadata": {
    "id": "xoSXn0_IT56L",
    "jp-MarkdownHeadingCollapsed": true,
    "tags": []
   },
   "source": [
    "## **2. Including Dropout**\n",
    "\n",
    "*Explain dropout, include reference to original paper*"
   ]
  },
  {
   "cell_type": "markdown",
   "metadata": {
    "id": "FCXdq7tnWl7M"
   },
   "source": [
    "### 2.1. Model structure\n",
    "\n",
    "Let's first create the model structure:"
   ]
  },
  {
   "cell_type": "code",
   "execution_count": null,
   "metadata": {
    "id": "Llo1zPv_Wl7M"
   },
   "outputs": [],
   "source": [
    "model = models.Sequential()\n",
    "# 1st Convolution Layer\n",
    "model.add(layers.Conv2D(32, (3, 3), activation='relu',\n",
    "                        input_shape=(150, 150, 3)\n",
    "                        )\n",
    ")\n",
    "# 1st Pooling Layer\n",
    "model.add(layers.MaxPooling2D((2, 2)))\n",
    "# 2nd Convolution Layer\n",
    "model.add(layers.Conv2D(64, \n",
    "                        (3, 3), \n",
    "                        activation='relu'\n",
    "                        )\n",
    ")\n",
    "# 2nd Pooling Layer\n",
    "model.add(layers.MaxPooling2D((2, 2)))\n",
    "# 3rd Convolution Layer\n",
    "model.add(layers.Conv2D(128, \n",
    "                        (3, 3), \n",
    "                        activation='relu'\n",
    "                        )\n",
    ")\n",
    "# 3rd Pooling Layer\n",
    "model.add(layers.MaxPooling2D((2, 2)))\n",
    "# 4th Convolution Layer\n",
    "model.add(layers.Conv2D(128, \n",
    "                        (3, 3), \n",
    "                        activation='relu'\n",
    "                        )\n",
    ")\n",
    "# 4th Pooling Layer\n",
    "model.add(layers.MaxPooling2D((2, 2)))\n",
    "model.add(layers.Flatten())\n",
    "model.add(layers.Dropout(0.5))\n",
    "model.add(layers.Dense(512, activation='relu'))\n",
    "model.add(layers.Dense(10, activation='softmax'))"
   ]
  },
  {
   "cell_type": "markdown",
   "metadata": {
    "id": "ElGJKWO1Wl7M"
   },
   "source": [
    "Once the structure of the base model has been defined, let's see exactly how many parameters it has in order to have a better idea of how flexible this model is:"
   ]
  },
  {
   "cell_type": "code",
   "execution_count": null,
   "metadata": {
    "id": "1ME-cjFbWl7M"
   },
   "outputs": [],
   "source": [
    "model.summary()"
   ]
  },
  {
   "cell_type": "markdown",
   "metadata": {
    "id": "4P6SbFRRWl7M"
   },
   "source": [
    "We'll use Adam as our optimizer, as well as we have done previously due to the reasons already mentioned."
   ]
  },
  {
   "cell_type": "code",
   "execution_count": null,
   "metadata": {
    "id": "I-FywaaMWl7M"
   },
   "outputs": [],
   "source": [
    "model.compile(\n",
    "    loss='binary_crossentropy',\n",
    "    optimizer=optimizers.Adam(lr=1e-4),\n",
    "    metrics=['acc']\n",
    ")"
   ]
  },
  {
   "cell_type": "markdown",
   "metadata": {
    "id": "beB6fVRSWl7M",
    "tags": []
   },
   "source": [
    "### 2.2. Data preprocessing\n",
    "\n",
    "We'll apply the same preprocess steps we have performed for the base model."
   ]
  },
  {
   "cell_type": "code",
   "execution_count": null,
   "metadata": {
    "id": "T4E-rRiCWl7M"
   },
   "outputs": [],
   "source": [
    "# All images will be rescaled by 1./255\n",
    "train_datagen = ImageDataGenerator(rescale=1./255)\n",
    "test_datagen = ImageDataGenerator(rescale=1./255)\n",
    "\n",
    "train_generator = train_datagen.flow_from_directory(\n",
    "        # This is the target directory\n",
    "        train_dir,\n",
    "        # All images will be resized to 150x150\n",
    "        target_size=(150, 150),\n",
    "        batch_size=20,\n",
    "        # We use raw to get predicted probabilities\n",
    "        class_mode='raw'\n",
    "        )\n",
    "\n",
    "validation_generator = test_datagen.flow_from_directory(\n",
    "        validation_dir,\n",
    "        target_size=(150, 150),\n",
    "        batch_size=20,\n",
    "        class_mode='raw'\n",
    "        )"
   ]
  },
  {
   "cell_type": "markdown",
   "metadata": {
    "id": "ecS3PKybWl7N"
   },
   "source": [
    "### 2.3. Training\n",
    "\n",
    "Let's train the model:"
   ]
  },
  {
   "cell_type": "code",
   "execution_count": null,
   "metadata": {
    "id": "5mNxwK2EWl7N"
   },
   "outputs": [],
   "source": [
    "history = model.fit_generator(\n",
    "      train_generator,\n",
    "      steps_per_epoch=100,\n",
    "      epochs=3,\n",
    "      validation_data=validation_generator,\n",
    "      validation_steps=50\n",
    "      )"
   ]
  },
  {
   "cell_type": "markdown",
   "metadata": {
    "id": "1MtTXyZDWl7N"
   },
   "source": [
    "And once the model has been trained, we will save it:"
   ]
  },
  {
   "cell_type": "code",
   "execution_count": null,
   "metadata": {
    "id": "mlwE_kSYWl7N"
   },
   "outputs": [],
   "source": [
    "# Create directory where to save the models created\n",
    "models_dir = \"/content/drive/MyDrive/models\"\n",
    "os.makedirs(models_dir, exist_ok=True)\n",
    "\n",
    "# Directory where to save the model\n",
    "\n",
    "# Save model\n",
    "base_model_dir = os.path.join(models_dir, \"model_v1.h5\")\n",
    "model.save(base_model_dir)"
   ]
  },
  {
   "cell_type": "markdown",
   "metadata": {
    "id": "IApKABQIWl7N"
   },
   "source": [
    "### 2.4. Validation\n",
    "\n",
    "Let's plot how the loss and the accuracy from both training and validations sets have evolved during the training process. "
   ]
  },
  {
   "cell_type": "code",
   "execution_count": null,
   "metadata": {
    "id": "pJCKEreCWl7N"
   },
   "outputs": [],
   "source": [
    "acc = history.history['acc']\n",
    "val_acc = history.history['val_acc']\n",
    "loss = history.history['loss']\n",
    "val_loss = history.history['val_loss']\n",
    "\n",
    "epochs = range(len(acc))\n",
    "\n",
    "plt.plot(epochs, acc, 'bo', label='Training acc')\n",
    "plt.plot(epochs, val_acc, 'b', label='Validation acc')\n",
    "plt.title('Training and validation accuracy')\n",
    "plt.legend()\n",
    "\n",
    "plt.figure()\n",
    "\n",
    "plt.plot(epochs, loss, 'bo', label='Training loss')\n",
    "plt.plot(epochs, val_loss, 'b', label='Validation loss')\n",
    "plt.title('Training and validation loss')\n",
    "plt.legend()\n",
    "\n",
    "plt.show()"
   ]
  },
  {
   "cell_type": "markdown",
   "metadata": {
    "id": "NUF7RngaWl7N"
   },
   "source": [
    "*Comments about how those metrics have evolved... and compare them with prior results.*"
   ]
  },
  {
   "cell_type": "markdown",
   "metadata": {
    "id": "8OWJ-Yc3UUVS",
    "jp-MarkdownHeadingCollapsed": true,
    "tags": []
   },
   "source": [
    "## **3. Including Data Augmentation**\n",
    "\n",
    "*Explain Data Augmentation, reference some website or paper which talks about this technique.*"
   ]
  },
  {
   "cell_type": "markdown",
   "metadata": {
    "id": "PsXHopqbX-go"
   },
   "source": [
    "### 3.1. Model structure\n",
    "\n",
    "Let's first create the model structure:"
   ]
  },
  {
   "cell_type": "code",
   "execution_count": null,
   "metadata": {
    "id": "1HrSh5y_X-go"
   },
   "outputs": [],
   "source": [
    "model = models.Sequential()\n",
    "# 1st Convolution Layer\n",
    "model.add(layers.Conv2D(32, (3, 3), activation='relu',\n",
    "                        input_shape=(150, 150, 3)\n",
    "                        )\n",
    ")\n",
    "# 1st Pooling Layer\n",
    "model.add(layers.MaxPooling2D((2, 2)))\n",
    "# 2nd Convolution Layer\n",
    "model.add(layers.Conv2D(64, \n",
    "                        (3, 3), \n",
    "                        activation='relu'\n",
    "                        )\n",
    ")\n",
    "# 2nd Pooling Layer\n",
    "model.add(layers.MaxPooling2D((2, 2)))\n",
    "# 3rd Convolution Layer\n",
    "model.add(layers.Conv2D(128, \n",
    "                        (3, 3), \n",
    "                        activation='relu'\n",
    "                        )\n",
    ")\n",
    "# 3rd Pooling Layer\n",
    "model.add(layers.MaxPooling2D((2, 2)))\n",
    "# 4th Convolution Layer\n",
    "model.add(layers.Conv2D(128, \n",
    "                        (3, 3), \n",
    "                        activation='relu'\n",
    "                        )\n",
    ")\n",
    "# 4th Pooling Layer\n",
    "model.add(layers.MaxPooling2D((2, 2)))\n",
    "model.add(layers.Flatten())\n",
    "model.add(layers.Dropout(0.5))\n",
    "model.add(layers.Dense(512, activation='relu'))\n",
    "model.add(layers.Dense(10, activation='softmax'))"
   ]
  },
  {
   "cell_type": "markdown",
   "metadata": {
    "id": "VV6YcQ0uX-go"
   },
   "source": [
    "Once the structure of the base model has been defined, let's see exactly how many parameters it has in order to have a better idea of how flexible this model is:"
   ]
  },
  {
   "cell_type": "code",
   "execution_count": null,
   "metadata": {
    "id": "_DvKcBQzX-go"
   },
   "outputs": [],
   "source": [
    "model.summary()"
   ]
  },
  {
   "cell_type": "markdown",
   "metadata": {
    "id": "EpCZe4O1X-go"
   },
   "source": [
    "We'll use Adam as our optimizer, as well as we have done previously due to the reasons already mentioned."
   ]
  },
  {
   "cell_type": "code",
   "execution_count": null,
   "metadata": {
    "id": "qA-8CNmxX-go"
   },
   "outputs": [],
   "source": [
    "model.compile(\n",
    "    loss='binary_crossentropy',\n",
    "    optimizer=optimizers.Adam(lr=1e-4),\n",
    "    metrics=['acc']\n",
    ")"
   ]
  },
  {
   "cell_type": "markdown",
   "metadata": {
    "id": "3LQutoiDX-go"
   },
   "source": [
    "### 3.2. Data preprocessing\n",
    "\n",
    "In this case, we will include the Data Augmentation step to the model preprocessing step..."
   ]
  },
  {
   "cell_type": "code",
   "execution_count": null,
   "metadata": {
    "id": "8Ir1biHEX-go"
   },
   "outputs": [],
   "source": [
    "train_datagen = ImageDataGenerator(\n",
    "    rescale=1./255,\n",
    "    rotation_range=40,\n",
    "    width_shift_range=0.2,\n",
    "    height_shift_range=0.2,\n",
    "    shear_range=0.2,\n",
    "    zoom_range=0.2,\n",
    "    horizontal_flip=True,\n",
    "    )\n",
    "\n",
    "# The data augmentation must not be used for the test set!\n",
    "test_datagen = ImageDataGenerator(rescale=1./255)\n",
    "\n",
    "train_generator = train_datagen.flow_from_directory(\n",
    "        # This is the target directory\n",
    "        train_dir,\n",
    "        # All images will be resized to 150x150\n",
    "        target_size=(150, 150),\n",
    "        batch_size=20,\n",
    "        # We use raw to get predicted probabilities\n",
    "        class_mode='raw'\n",
    "        )\n",
    "\n",
    "validation_generator = test_datagen.flow_from_directory(\n",
    "        validation_dir,\n",
    "        target_size=(150, 150),\n",
    "        batch_size=20,\n",
    "        class_mode='raw'\n",
    "        )"
   ]
  },
  {
   "cell_type": "markdown",
   "metadata": {
    "id": "aA2NVED3X-go"
   },
   "source": [
    "### 3.3. Training\n",
    "\n",
    "Let's train the model:"
   ]
  },
  {
   "cell_type": "code",
   "execution_count": null,
   "metadata": {
    "id": "YJ2vPT9cX-go"
   },
   "outputs": [],
   "source": [
    "history = model.fit_generator(\n",
    "      train_generator,\n",
    "      steps_per_epoch=100,\n",
    "      epochs=3,\n",
    "      validation_data=validation_generator,\n",
    "      validation_steps=50\n",
    "      )"
   ]
  },
  {
   "cell_type": "markdown",
   "metadata": {
    "id": "oGYrWIOgX-gp"
   },
   "source": [
    "And once the model has been trained, we will save it:"
   ]
  },
  {
   "cell_type": "code",
   "execution_count": null,
   "metadata": {
    "id": "8152rHNRX-gp"
   },
   "outputs": [],
   "source": [
    "# Create directory where to save the models created\n",
    "models_dir = \"/content/drive/MyDrive/models\"\n",
    "os.makedirs(models_dir, exist_ok=True)\n",
    "\n",
    "# Directory where to save the model\n",
    "\n",
    "# Save model\n",
    "base_model_dir = os.path.join(models_dir, \"model_v2.h5\")\n",
    "model.save(base_model_dir)"
   ]
  },
  {
   "cell_type": "markdown",
   "metadata": {
    "id": "O1le0N-mX-gp"
   },
   "source": [
    "### 3.4. Validation\n",
    "\n",
    "Let's plot how the loss and the accuracy from both training and validations sets have evolved during the training process. "
   ]
  },
  {
   "cell_type": "code",
   "execution_count": null,
   "metadata": {
    "id": "PZ2As2CbX-gp"
   },
   "outputs": [],
   "source": [
    "acc = history.history['acc']\n",
    "val_acc = history.history['val_acc']\n",
    "loss = history.history['loss']\n",
    "val_loss = history.history['val_loss']\n",
    "\n",
    "epochs = range(len(acc))\n",
    "\n",
    "plt.plot(epochs, acc, 'bo', label='Training acc')\n",
    "plt.plot(epochs, val_acc, 'b', label='Validation acc')\n",
    "plt.title('Training and validation accuracy')\n",
    "plt.legend()\n",
    "\n",
    "plt.figure()\n",
    "\n",
    "plt.plot(epochs, loss, 'bo', label='Training loss')\n",
    "plt.plot(epochs, val_loss, 'b', label='Validation loss')\n",
    "plt.title('Training and validation loss')\n",
    "plt.legend()\n",
    "\n",
    "plt.show()"
   ]
  },
  {
   "cell_type": "markdown",
   "metadata": {
    "id": "M7U_CfHYX-gp"
   },
   "source": [
    "*Comments about how those metrics have evolved... and compare those with prior results*"
   ]
  },
  {
   "cell_type": "markdown",
   "metadata": {
    "id": "3MQu7C9LUhB_",
    "jp-MarkdownHeadingCollapsed": true,
    "tags": []
   },
   "source": [
    "## **4. Model from scratch with best combination of hyperparameters found**"
   ]
  },
  {
   "cell_type": "markdown",
   "metadata": {
    "id": "Hf_ybj47ZnP2"
   },
   "source": [
    "### 4.1. Model structure\n",
    "\n",
    "Let's first create the model structure:"
   ]
  },
  {
   "cell_type": "code",
   "execution_count": null,
   "metadata": {
    "id": "oUWvxCgCZnP2"
   },
   "outputs": [],
   "source": [
    "model = models.Sequential()\n",
    "# 1st Convolution Layer\n",
    "model.add(layers.Conv2D(32, (3, 3), activation='relu',\n",
    "                        input_shape=(150, 150, 3)\n",
    "                        )\n",
    ")\n",
    "# 1st Pooling Layer\n",
    "model.add(layers.MaxPooling2D((2, 2)))\n",
    "# 2nd Convolution Layer\n",
    "model.add(layers.Conv2D(64, \n",
    "                        (3, 3), \n",
    "                        activation='relu'\n",
    "                        )\n",
    ")\n",
    "# 2nd Pooling Layer\n",
    "model.add(layers.MaxPooling2D((2, 2)))\n",
    "# 3rd Convolution Layer\n",
    "model.add(layers.Conv2D(128, \n",
    "                        (3, 3), \n",
    "                        activation='relu'\n",
    "                        )\n",
    ")\n",
    "# 3rd Pooling Layer\n",
    "model.add(layers.MaxPooling2D((2, 2)))\n",
    "# 4th Convolution Layer\n",
    "model.add(layers.Conv2D(128, \n",
    "                        (3, 3), \n",
    "                        activation='relu'\n",
    "                        )\n",
    ")\n",
    "# 4th Pooling Layer\n",
    "model.add(layers.MaxPooling2D((2, 2)))\n",
    "model.add(layers.Flatten())\n",
    "model.add(layers.Dropout(0.5))\n",
    "model.add(layers.Dense(512, activation='relu'))\n",
    "model.add(layers.Dense(10, activation='softmax'))"
   ]
  },
  {
   "cell_type": "markdown",
   "metadata": {
    "id": "ZGXLW0KxZnP2"
   },
   "source": [
    "Once the structure of the base model has been defined, let's see exactly how many parameters it has in order to have a better idea of how flexible this model is:"
   ]
  },
  {
   "cell_type": "code",
   "execution_count": null,
   "metadata": {
    "id": "hPGwaEjQZnP3"
   },
   "outputs": [],
   "source": [
    "model.summary()"
   ]
  },
  {
   "cell_type": "markdown",
   "metadata": {
    "id": "FkSQ7ZDGZnP3"
   },
   "source": [
    "We'll use Adam as our optimizer, as well as we have done previouly due to the reasons already mentioned."
   ]
  },
  {
   "cell_type": "code",
   "execution_count": null,
   "metadata": {
    "id": "cmYo3_SsZnP3"
   },
   "outputs": [],
   "source": [
    "model.compile(\n",
    "    loss='binary_crossentropy',\n",
    "    optimizer=optimizers.Adam(lr=1e-4),\n",
    "    metrics=['acc']\n",
    ")"
   ]
  },
  {
   "cell_type": "markdown",
   "metadata": {
    "id": "M-JPRAfqZnP3"
   },
   "source": [
    "### 4.2. Data preprocessing\n",
    "\n",
    "We'll apply the same preprocess steps we have performed for the base model."
   ]
  },
  {
   "cell_type": "code",
   "execution_count": null,
   "metadata": {
    "id": "ov6Aev_rZnP3"
   },
   "outputs": [],
   "source": [
    "train_datagen = ImageDataGenerator(\n",
    "    rescale=1./255,\n",
    "    rotation_range=40,\n",
    "    width_shift_range=0.2,\n",
    "    height_shift_range=0.2,\n",
    "    shear_range=0.2,\n",
    "    zoom_range=0.2,\n",
    "    horizontal_flip=True,)\n",
    "\n",
    "# The data augmentation must not be used for the test set!\n",
    "test_datagen = ImageDataGenerator(rescale=1./255)\n",
    "\n",
    "train_generator = train_datagen.flow_from_directory(\n",
    "        # This is the target directory\n",
    "        train_dir,\n",
    "        # All images will be resized to 150x150\n",
    "        target_size=(150, 150),\n",
    "        batch_size=20,\n",
    "        # We use raw to get predicted probabilities\n",
    "        class_mode='raw'\n",
    "        )\n",
    "\n",
    "validation_generator = test_datagen.flow_from_directory(\n",
    "        validation_dir,\n",
    "        target_size=(150, 150),\n",
    "        batch_size=20,\n",
    "        class_mode='raw'\n",
    "        )"
   ]
  },
  {
   "cell_type": "markdown",
   "metadata": {
    "id": "5F-4EdHRZnP3"
   },
   "source": [
    "### 4.3. Training\n",
    "\n",
    "Let's train the model:"
   ]
  },
  {
   "cell_type": "code",
   "execution_count": null,
   "metadata": {
    "id": "5ryEcEIuZnP3"
   },
   "outputs": [],
   "source": [
    "history = model.fit_generator(\n",
    "      train_generator,\n",
    "      steps_per_epoch=100,\n",
    "      epochs=3,\n",
    "      validation_data=validation_generator,\n",
    "      validation_steps=50\n",
    "      )"
   ]
  },
  {
   "cell_type": "markdown",
   "metadata": {
    "id": "2pCMMwr3ZnP3"
   },
   "source": [
    "And once the model has been trained, we will save it:"
   ]
  },
  {
   "cell_type": "code",
   "execution_count": null,
   "metadata": {
    "id": "bTpsBYCoZnP3"
   },
   "outputs": [],
   "source": [
    "# Create directory where to save the models created\n",
    "models_dir = \"/content/drive/MyDrive/models\"\n",
    "os.makedirs(models_dir, exist_ok=True)\n",
    "\n",
    "# Directory where to save the model\n",
    "\n",
    "# Save model\n",
    "base_model_dir = os.path.join(models_dir, \"model_v3.h5\")\n",
    "model.save(base_model_dir)"
   ]
  },
  {
   "cell_type": "markdown",
   "metadata": {
    "id": "PveErd0mZnP3"
   },
   "source": [
    "### 4.4. Validation\n",
    "\n",
    "Let's plot how the loss and the accuracy from both training and validations sets have evolved during the training process. "
   ]
  },
  {
   "cell_type": "code",
   "execution_count": null,
   "metadata": {
    "id": "M4aIcM-GZnP3"
   },
   "outputs": [],
   "source": [
    "acc = history.history['acc']\n",
    "val_acc = history.history['val_acc']\n",
    "loss = history.history['loss']\n",
    "val_loss = history.history['val_loss']\n",
    "\n",
    "epochs = range(len(acc))\n",
    "\n",
    "plt.plot(epochs, acc, 'bo', label='Training acc')\n",
    "plt.plot(epochs, val_acc, 'b', label='Validation acc')\n",
    "plt.title('Training and validation accuracy')\n",
    "plt.legend()\n",
    "\n",
    "plt.figure()\n",
    "\n",
    "plt.plot(epochs, loss, 'bo', label='Training loss')\n",
    "plt.plot(epochs, val_loss, 'b', label='Validation loss')\n",
    "plt.title('Training and validation loss')\n",
    "plt.legend()\n",
    "\n",
    "plt.show()"
   ]
  },
  {
   "cell_type": "markdown",
   "metadata": {
    "id": "6_XG6Mz5ZnP3"
   },
   "source": [
    "*Comments about how those metrics have evolved...*"
   ]
  },
  {
   "cell_type": "markdown",
   "metadata": {
    "id": "ti1cPFEo-UJp",
    "jp-MarkdownHeadingCollapsed": true,
    "tags": []
   },
   "source": [
    "## **5. Fine-tuning**\n",
    "\n",
    "We will use a pretrained model in order to compare its results with the results obtained with the models trained from scratch we already trained. Specifically, we will train a pretrained model found in Hugging Face which has "
   ]
  },
  {
   "cell_type": "markdown",
   "metadata": {
    "id": "Q7qs_G1dfZbP"
   },
   "source": [
    "First of all let's install the required libraries needed to run the pretrained model."
   ]
  },
  {
   "cell_type": "code",
   "execution_count": null,
   "metadata": {
    "id": "PtJSuhX5WWGA"
   },
   "outputs": [],
   "source": [
    "!pip install ultralyticsplus==0.0.24 ultralytics==8.0.23"
   ]
  },
  {
   "cell_type": "code",
   "execution_count": 8,
   "metadata": {
    "colab": {
     "base_uri": "https://localhost:8080/",
     "height": 81,
     "referenced_widgets": [
      "450ead2c848c480196daa0e0861f444a",
      "97911caec8624a87854963af967f7441",
      "a44876bb83014b04bef98efecf8db9c3",
      "2850f30fdf064bdeb46297601307db56",
      "03aa47779fa642e791ab25dec68d334e",
      "7faf0eb3aea6485cb257ad0c6114304c",
      "31fe748383b44bcebe7315f2827a07ab",
      "1f0a0f46f6fe4596b00ef40f31b8e147",
      "8a00ea39e3af4ff191646cb0f3917f20",
      "345e0766760d418a850d15ccbda658b5",
      "02ee0d0e2df54bd7aa5627903bc01a6a",
      "5150b2f053de477d91975a20a457f0c8",
      "ffaae567dc654fbeb49a50611cc2fc4b",
      "e443c30603c84aa58586c085d2b3586f",
      "0169658af7a2408d9f27366926734fab",
      "8583137aa00d47d7a41fb3e1bb0fe52d",
      "3db90734520b4cc7b548bf6089b6387e",
      "f722728030374d87838d763845959e2a",
      "23547cfbadf148a2ac146601b2c9620e",
      "ef547df88f9741cbbbab48f2dfe35911",
      "0d5bb4458a7b4d2abab0f0f788f8a9b8",
      "045594988d414928a36077060f89cc0d"
     ]
    },
    "id": "nexuZ0EehEFL",
    "outputId": "8453dfe2-1733-4eda-cb3e-876c420a072a"
   },
   "outputs": [
    {
     "data": {
      "application/vnd.jupyter.widget-view+json": {
       "model_id": "450ead2c848c480196daa0e0861f444a",
       "version_major": 2,
       "version_minor": 0
      },
      "text/plain": [
       "Downloading (…)lve/main/config.json:   0%|          | 0.00/195 [00:00<?, ?B/s]"
      ]
     },
     "metadata": {},
     "output_type": "display_data"
    },
    {
     "data": {
      "application/vnd.jupyter.widget-view+json": {
       "model_id": "5150b2f053de477d91975a20a457f0c8",
       "version_major": 2,
       "version_minor": 0
      },
      "text/plain": [
       "Downloading best.pt:   0%|          | 0.00/31.7M [00:00<?, ?B/s]"
      ]
     },
     "metadata": {},
     "output_type": "display_data"
    }
   ],
   "source": [
    "from ultralyticsplus import YOLO, postprocess_classify_output\n",
    "\n",
    "# load model\n",
    "model = YOLO('keremberke/yolov8m-painting-classification')"
   ]
  },
  {
   "cell_type": "markdown",
   "metadata": {
    "id": "3A9XBd1chqp5"
   },
   "source": [
    "*Useful links for this model:*\n",
    "\n",
    "[Hugging Face model link](https://huggingface.co/keremberke/yolov8m-painting-classification)\n",
    "\n",
    "[Awesome Yolov8 models website](https://yolov8.xyz/#/?id=classification-models)\n",
    "\n",
    "[Yolov8 GitHub page](https://github.com/ultralytics/ultralytics/blob/main/examples/tutorial.ipynb)\n",
    "\n",
    "[Ultralytics website](https://docs.ultralytics.com/python/)"
   ]
  }
 ],
 "metadata": {
  "colab": {
   "collapsed_sections": [
    "lR3pXpNODl6O",
    "xoSXn0_IT56L",
    "8OWJ-Yc3UUVS",
    "3MQu7C9LUhB_",
    "ti1cPFEo-UJp"
   ],
   "provenance": []
  },
  "kernelspec": {
   "display_name": "default:Python",
   "language": "python",
   "name": "conda-env-default-py"
  },
  "language_info": {
   "codemirror_mode": {
    "name": "ipython",
    "version": 3
   },
   "file_extension": ".py",
   "mimetype": "text/x-python",
   "name": "python",
   "nbconvert_exporter": "python",
   "pygments_lexer": "ipython3",
   "version": "3.9.10"
  },
  "widgets": {
   "application/vnd.jupyter.widget-state+json": {
    "0169658af7a2408d9f27366926734fab": {
     "model_module": "@jupyter-widgets/controls",
     "model_module_version": "1.5.0",
     "model_name": "HTMLModel",
     "state": {
      "_dom_classes": [],
      "_model_module": "@jupyter-widgets/controls",
      "_model_module_version": "1.5.0",
      "_model_name": "HTMLModel",
      "_view_count": null,
      "_view_module": "@jupyter-widgets/controls",
      "_view_module_version": "1.5.0",
      "_view_name": "HTMLView",
      "description": "",
      "description_tooltip": null,
      "layout": "IPY_MODEL_0d5bb4458a7b4d2abab0f0f788f8a9b8",
      "placeholder": "​",
      "style": "IPY_MODEL_045594988d414928a36077060f89cc0d",
      "value": " 31.7M/31.7M [00:02&lt;00:00, 14.9MB/s]"
     }
    },
    "02ee0d0e2df54bd7aa5627903bc01a6a": {
     "model_module": "@jupyter-widgets/controls",
     "model_module_version": "1.5.0",
     "model_name": "DescriptionStyleModel",
     "state": {
      "_model_module": "@jupyter-widgets/controls",
      "_model_module_version": "1.5.0",
      "_model_name": "DescriptionStyleModel",
      "_view_count": null,
      "_view_module": "@jupyter-widgets/base",
      "_view_module_version": "1.2.0",
      "_view_name": "StyleView",
      "description_width": ""
     }
    },
    "03aa47779fa642e791ab25dec68d334e": {
     "model_module": "@jupyter-widgets/base",
     "model_module_version": "1.2.0",
     "model_name": "LayoutModel",
     "state": {
      "_model_module": "@jupyter-widgets/base",
      "_model_module_version": "1.2.0",
      "_model_name": "LayoutModel",
      "_view_count": null,
      "_view_module": "@jupyter-widgets/base",
      "_view_module_version": "1.2.0",
      "_view_name": "LayoutView",
      "align_content": null,
      "align_items": null,
      "align_self": null,
      "border": null,
      "bottom": null,
      "display": null,
      "flex": null,
      "flex_flow": null,
      "grid_area": null,
      "grid_auto_columns": null,
      "grid_auto_flow": null,
      "grid_auto_rows": null,
      "grid_column": null,
      "grid_gap": null,
      "grid_row": null,
      "grid_template_areas": null,
      "grid_template_columns": null,
      "grid_template_rows": null,
      "height": null,
      "justify_content": null,
      "justify_items": null,
      "left": null,
      "margin": null,
      "max_height": null,
      "max_width": null,
      "min_height": null,
      "min_width": null,
      "object_fit": null,
      "object_position": null,
      "order": null,
      "overflow": null,
      "overflow_x": null,
      "overflow_y": null,
      "padding": null,
      "right": null,
      "top": null,
      "visibility": null,
      "width": null
     }
    },
    "045594988d414928a36077060f89cc0d": {
     "model_module": "@jupyter-widgets/controls",
     "model_module_version": "1.5.0",
     "model_name": "DescriptionStyleModel",
     "state": {
      "_model_module": "@jupyter-widgets/controls",
      "_model_module_version": "1.5.0",
      "_model_name": "DescriptionStyleModel",
      "_view_count": null,
      "_view_module": "@jupyter-widgets/base",
      "_view_module_version": "1.2.0",
      "_view_name": "StyleView",
      "description_width": ""
     }
    },
    "0d5bb4458a7b4d2abab0f0f788f8a9b8": {
     "model_module": "@jupyter-widgets/base",
     "model_module_version": "1.2.0",
     "model_name": "LayoutModel",
     "state": {
      "_model_module": "@jupyter-widgets/base",
      "_model_module_version": "1.2.0",
      "_model_name": "LayoutModel",
      "_view_count": null,
      "_view_module": "@jupyter-widgets/base",
      "_view_module_version": "1.2.0",
      "_view_name": "LayoutView",
      "align_content": null,
      "align_items": null,
      "align_self": null,
      "border": null,
      "bottom": null,
      "display": null,
      "flex": null,
      "flex_flow": null,
      "grid_area": null,
      "grid_auto_columns": null,
      "grid_auto_flow": null,
      "grid_auto_rows": null,
      "grid_column": null,
      "grid_gap": null,
      "grid_row": null,
      "grid_template_areas": null,
      "grid_template_columns": null,
      "grid_template_rows": null,
      "height": null,
      "justify_content": null,
      "justify_items": null,
      "left": null,
      "margin": null,
      "max_height": null,
      "max_width": null,
      "min_height": null,
      "min_width": null,
      "object_fit": null,
      "object_position": null,
      "order": null,
      "overflow": null,
      "overflow_x": null,
      "overflow_y": null,
      "padding": null,
      "right": null,
      "top": null,
      "visibility": null,
      "width": null
     }
    },
    "1f0a0f46f6fe4596b00ef40f31b8e147": {
     "model_module": "@jupyter-widgets/base",
     "model_module_version": "1.2.0",
     "model_name": "LayoutModel",
     "state": {
      "_model_module": "@jupyter-widgets/base",
      "_model_module_version": "1.2.0",
      "_model_name": "LayoutModel",
      "_view_count": null,
      "_view_module": "@jupyter-widgets/base",
      "_view_module_version": "1.2.0",
      "_view_name": "LayoutView",
      "align_content": null,
      "align_items": null,
      "align_self": null,
      "border": null,
      "bottom": null,
      "display": null,
      "flex": null,
      "flex_flow": null,
      "grid_area": null,
      "grid_auto_columns": null,
      "grid_auto_flow": null,
      "grid_auto_rows": null,
      "grid_column": null,
      "grid_gap": null,
      "grid_row": null,
      "grid_template_areas": null,
      "grid_template_columns": null,
      "grid_template_rows": null,
      "height": null,
      "justify_content": null,
      "justify_items": null,
      "left": null,
      "margin": null,
      "max_height": null,
      "max_width": null,
      "min_height": null,
      "min_width": null,
      "object_fit": null,
      "object_position": null,
      "order": null,
      "overflow": null,
      "overflow_x": null,
      "overflow_y": null,
      "padding": null,
      "right": null,
      "top": null,
      "visibility": null,
      "width": null
     }
    },
    "23547cfbadf148a2ac146601b2c9620e": {
     "model_module": "@jupyter-widgets/base",
     "model_module_version": "1.2.0",
     "model_name": "LayoutModel",
     "state": {
      "_model_module": "@jupyter-widgets/base",
      "_model_module_version": "1.2.0",
      "_model_name": "LayoutModel",
      "_view_count": null,
      "_view_module": "@jupyter-widgets/base",
      "_view_module_version": "1.2.0",
      "_view_name": "LayoutView",
      "align_content": null,
      "align_items": null,
      "align_self": null,
      "border": null,
      "bottom": null,
      "display": null,
      "flex": null,
      "flex_flow": null,
      "grid_area": null,
      "grid_auto_columns": null,
      "grid_auto_flow": null,
      "grid_auto_rows": null,
      "grid_column": null,
      "grid_gap": null,
      "grid_row": null,
      "grid_template_areas": null,
      "grid_template_columns": null,
      "grid_template_rows": null,
      "height": null,
      "justify_content": null,
      "justify_items": null,
      "left": null,
      "margin": null,
      "max_height": null,
      "max_width": null,
      "min_height": null,
      "min_width": null,
      "object_fit": null,
      "object_position": null,
      "order": null,
      "overflow": null,
      "overflow_x": null,
      "overflow_y": null,
      "padding": null,
      "right": null,
      "top": null,
      "visibility": null,
      "width": null
     }
    },
    "2850f30fdf064bdeb46297601307db56": {
     "model_module": "@jupyter-widgets/controls",
     "model_module_version": "1.5.0",
     "model_name": "HTMLModel",
     "state": {
      "_dom_classes": [],
      "_model_module": "@jupyter-widgets/controls",
      "_model_module_version": "1.5.0",
      "_model_name": "HTMLModel",
      "_view_count": null,
      "_view_module": "@jupyter-widgets/controls",
      "_view_module_version": "1.5.0",
      "_view_name": "HTMLView",
      "description": "",
      "description_tooltip": null,
      "layout": "IPY_MODEL_345e0766760d418a850d15ccbda658b5",
      "placeholder": "​",
      "style": "IPY_MODEL_02ee0d0e2df54bd7aa5627903bc01a6a",
      "value": " 195/195 [00:00&lt;00:00, 5.71kB/s]"
     }
    },
    "31fe748383b44bcebe7315f2827a07ab": {
     "model_module": "@jupyter-widgets/controls",
     "model_module_version": "1.5.0",
     "model_name": "DescriptionStyleModel",
     "state": {
      "_model_module": "@jupyter-widgets/controls",
      "_model_module_version": "1.5.0",
      "_model_name": "DescriptionStyleModel",
      "_view_count": null,
      "_view_module": "@jupyter-widgets/base",
      "_view_module_version": "1.2.0",
      "_view_name": "StyleView",
      "description_width": ""
     }
    },
    "345e0766760d418a850d15ccbda658b5": {
     "model_module": "@jupyter-widgets/base",
     "model_module_version": "1.2.0",
     "model_name": "LayoutModel",
     "state": {
      "_model_module": "@jupyter-widgets/base",
      "_model_module_version": "1.2.0",
      "_model_name": "LayoutModel",
      "_view_count": null,
      "_view_module": "@jupyter-widgets/base",
      "_view_module_version": "1.2.0",
      "_view_name": "LayoutView",
      "align_content": null,
      "align_items": null,
      "align_self": null,
      "border": null,
      "bottom": null,
      "display": null,
      "flex": null,
      "flex_flow": null,
      "grid_area": null,
      "grid_auto_columns": null,
      "grid_auto_flow": null,
      "grid_auto_rows": null,
      "grid_column": null,
      "grid_gap": null,
      "grid_row": null,
      "grid_template_areas": null,
      "grid_template_columns": null,
      "grid_template_rows": null,
      "height": null,
      "justify_content": null,
      "justify_items": null,
      "left": null,
      "margin": null,
      "max_height": null,
      "max_width": null,
      "min_height": null,
      "min_width": null,
      "object_fit": null,
      "object_position": null,
      "order": null,
      "overflow": null,
      "overflow_x": null,
      "overflow_y": null,
      "padding": null,
      "right": null,
      "top": null,
      "visibility": null,
      "width": null
     }
    },
    "3db90734520b4cc7b548bf6089b6387e": {
     "model_module": "@jupyter-widgets/base",
     "model_module_version": "1.2.0",
     "model_name": "LayoutModel",
     "state": {
      "_model_module": "@jupyter-widgets/base",
      "_model_module_version": "1.2.0",
      "_model_name": "LayoutModel",
      "_view_count": null,
      "_view_module": "@jupyter-widgets/base",
      "_view_module_version": "1.2.0",
      "_view_name": "LayoutView",
      "align_content": null,
      "align_items": null,
      "align_self": null,
      "border": null,
      "bottom": null,
      "display": null,
      "flex": null,
      "flex_flow": null,
      "grid_area": null,
      "grid_auto_columns": null,
      "grid_auto_flow": null,
      "grid_auto_rows": null,
      "grid_column": null,
      "grid_gap": null,
      "grid_row": null,
      "grid_template_areas": null,
      "grid_template_columns": null,
      "grid_template_rows": null,
      "height": null,
      "justify_content": null,
      "justify_items": null,
      "left": null,
      "margin": null,
      "max_height": null,
      "max_width": null,
      "min_height": null,
      "min_width": null,
      "object_fit": null,
      "object_position": null,
      "order": null,
      "overflow": null,
      "overflow_x": null,
      "overflow_y": null,
      "padding": null,
      "right": null,
      "top": null,
      "visibility": null,
      "width": null
     }
    },
    "450ead2c848c480196daa0e0861f444a": {
     "model_module": "@jupyter-widgets/controls",
     "model_module_version": "1.5.0",
     "model_name": "HBoxModel",
     "state": {
      "_dom_classes": [],
      "_model_module": "@jupyter-widgets/controls",
      "_model_module_version": "1.5.0",
      "_model_name": "HBoxModel",
      "_view_count": null,
      "_view_module": "@jupyter-widgets/controls",
      "_view_module_version": "1.5.0",
      "_view_name": "HBoxView",
      "box_style": "",
      "children": [
       "IPY_MODEL_97911caec8624a87854963af967f7441",
       "IPY_MODEL_a44876bb83014b04bef98efecf8db9c3",
       "IPY_MODEL_2850f30fdf064bdeb46297601307db56"
      ],
      "layout": "IPY_MODEL_03aa47779fa642e791ab25dec68d334e"
     }
    },
    "5150b2f053de477d91975a20a457f0c8": {
     "model_module": "@jupyter-widgets/controls",
     "model_module_version": "1.5.0",
     "model_name": "HBoxModel",
     "state": {
      "_dom_classes": [],
      "_model_module": "@jupyter-widgets/controls",
      "_model_module_version": "1.5.0",
      "_model_name": "HBoxModel",
      "_view_count": null,
      "_view_module": "@jupyter-widgets/controls",
      "_view_module_version": "1.5.0",
      "_view_name": "HBoxView",
      "box_style": "",
      "children": [
       "IPY_MODEL_ffaae567dc654fbeb49a50611cc2fc4b",
       "IPY_MODEL_e443c30603c84aa58586c085d2b3586f",
       "IPY_MODEL_0169658af7a2408d9f27366926734fab"
      ],
      "layout": "IPY_MODEL_8583137aa00d47d7a41fb3e1bb0fe52d"
     }
    },
    "7faf0eb3aea6485cb257ad0c6114304c": {
     "model_module": "@jupyter-widgets/base",
     "model_module_version": "1.2.0",
     "model_name": "LayoutModel",
     "state": {
      "_model_module": "@jupyter-widgets/base",
      "_model_module_version": "1.2.0",
      "_model_name": "LayoutModel",
      "_view_count": null,
      "_view_module": "@jupyter-widgets/base",
      "_view_module_version": "1.2.0",
      "_view_name": "LayoutView",
      "align_content": null,
      "align_items": null,
      "align_self": null,
      "border": null,
      "bottom": null,
      "display": null,
      "flex": null,
      "flex_flow": null,
      "grid_area": null,
      "grid_auto_columns": null,
      "grid_auto_flow": null,
      "grid_auto_rows": null,
      "grid_column": null,
      "grid_gap": null,
      "grid_row": null,
      "grid_template_areas": null,
      "grid_template_columns": null,
      "grid_template_rows": null,
      "height": null,
      "justify_content": null,
      "justify_items": null,
      "left": null,
      "margin": null,
      "max_height": null,
      "max_width": null,
      "min_height": null,
      "min_width": null,
      "object_fit": null,
      "object_position": null,
      "order": null,
      "overflow": null,
      "overflow_x": null,
      "overflow_y": null,
      "padding": null,
      "right": null,
      "top": null,
      "visibility": null,
      "width": null
     }
    },
    "8583137aa00d47d7a41fb3e1bb0fe52d": {
     "model_module": "@jupyter-widgets/base",
     "model_module_version": "1.2.0",
     "model_name": "LayoutModel",
     "state": {
      "_model_module": "@jupyter-widgets/base",
      "_model_module_version": "1.2.0",
      "_model_name": "LayoutModel",
      "_view_count": null,
      "_view_module": "@jupyter-widgets/base",
      "_view_module_version": "1.2.0",
      "_view_name": "LayoutView",
      "align_content": null,
      "align_items": null,
      "align_self": null,
      "border": null,
      "bottom": null,
      "display": null,
      "flex": null,
      "flex_flow": null,
      "grid_area": null,
      "grid_auto_columns": null,
      "grid_auto_flow": null,
      "grid_auto_rows": null,
      "grid_column": null,
      "grid_gap": null,
      "grid_row": null,
      "grid_template_areas": null,
      "grid_template_columns": null,
      "grid_template_rows": null,
      "height": null,
      "justify_content": null,
      "justify_items": null,
      "left": null,
      "margin": null,
      "max_height": null,
      "max_width": null,
      "min_height": null,
      "min_width": null,
      "object_fit": null,
      "object_position": null,
      "order": null,
      "overflow": null,
      "overflow_x": null,
      "overflow_y": null,
      "padding": null,
      "right": null,
      "top": null,
      "visibility": null,
      "width": null
     }
    },
    "8a00ea39e3af4ff191646cb0f3917f20": {
     "model_module": "@jupyter-widgets/controls",
     "model_module_version": "1.5.0",
     "model_name": "ProgressStyleModel",
     "state": {
      "_model_module": "@jupyter-widgets/controls",
      "_model_module_version": "1.5.0",
      "_model_name": "ProgressStyleModel",
      "_view_count": null,
      "_view_module": "@jupyter-widgets/base",
      "_view_module_version": "1.2.0",
      "_view_name": "StyleView",
      "bar_color": null,
      "description_width": ""
     }
    },
    "97911caec8624a87854963af967f7441": {
     "model_module": "@jupyter-widgets/controls",
     "model_module_version": "1.5.0",
     "model_name": "HTMLModel",
     "state": {
      "_dom_classes": [],
      "_model_module": "@jupyter-widgets/controls",
      "_model_module_version": "1.5.0",
      "_model_name": "HTMLModel",
      "_view_count": null,
      "_view_module": "@jupyter-widgets/controls",
      "_view_module_version": "1.5.0",
      "_view_name": "HTMLView",
      "description": "",
      "description_tooltip": null,
      "layout": "IPY_MODEL_7faf0eb3aea6485cb257ad0c6114304c",
      "placeholder": "​",
      "style": "IPY_MODEL_31fe748383b44bcebe7315f2827a07ab",
      "value": "Downloading (…)lve/main/config.json: 100%"
     }
    },
    "a44876bb83014b04bef98efecf8db9c3": {
     "model_module": "@jupyter-widgets/controls",
     "model_module_version": "1.5.0",
     "model_name": "FloatProgressModel",
     "state": {
      "_dom_classes": [],
      "_model_module": "@jupyter-widgets/controls",
      "_model_module_version": "1.5.0",
      "_model_name": "FloatProgressModel",
      "_view_count": null,
      "_view_module": "@jupyter-widgets/controls",
      "_view_module_version": "1.5.0",
      "_view_name": "ProgressView",
      "bar_style": "success",
      "description": "",
      "description_tooltip": null,
      "layout": "IPY_MODEL_1f0a0f46f6fe4596b00ef40f31b8e147",
      "max": 195,
      "min": 0,
      "orientation": "horizontal",
      "style": "IPY_MODEL_8a00ea39e3af4ff191646cb0f3917f20",
      "value": 195
     }
    },
    "e443c30603c84aa58586c085d2b3586f": {
     "model_module": "@jupyter-widgets/controls",
     "model_module_version": "1.5.0",
     "model_name": "FloatProgressModel",
     "state": {
      "_dom_classes": [],
      "_model_module": "@jupyter-widgets/controls",
      "_model_module_version": "1.5.0",
      "_model_name": "FloatProgressModel",
      "_view_count": null,
      "_view_module": "@jupyter-widgets/controls",
      "_view_module_version": "1.5.0",
      "_view_name": "ProgressView",
      "bar_style": "success",
      "description": "",
      "description_tooltip": null,
      "layout": "IPY_MODEL_23547cfbadf148a2ac146601b2c9620e",
      "max": 31736317,
      "min": 0,
      "orientation": "horizontal",
      "style": "IPY_MODEL_ef547df88f9741cbbbab48f2dfe35911",
      "value": 31736317
     }
    },
    "ef547df88f9741cbbbab48f2dfe35911": {
     "model_module": "@jupyter-widgets/controls",
     "model_module_version": "1.5.0",
     "model_name": "ProgressStyleModel",
     "state": {
      "_model_module": "@jupyter-widgets/controls",
      "_model_module_version": "1.5.0",
      "_model_name": "ProgressStyleModel",
      "_view_count": null,
      "_view_module": "@jupyter-widgets/base",
      "_view_module_version": "1.2.0",
      "_view_name": "StyleView",
      "bar_color": null,
      "description_width": ""
     }
    },
    "f722728030374d87838d763845959e2a": {
     "model_module": "@jupyter-widgets/controls",
     "model_module_version": "1.5.0",
     "model_name": "DescriptionStyleModel",
     "state": {
      "_model_module": "@jupyter-widgets/controls",
      "_model_module_version": "1.5.0",
      "_model_name": "DescriptionStyleModel",
      "_view_count": null,
      "_view_module": "@jupyter-widgets/base",
      "_view_module_version": "1.2.0",
      "_view_name": "StyleView",
      "description_width": ""
     }
    },
    "ffaae567dc654fbeb49a50611cc2fc4b": {
     "model_module": "@jupyter-widgets/controls",
     "model_module_version": "1.5.0",
     "model_name": "HTMLModel",
     "state": {
      "_dom_classes": [],
      "_model_module": "@jupyter-widgets/controls",
      "_model_module_version": "1.5.0",
      "_model_name": "HTMLModel",
      "_view_count": null,
      "_view_module": "@jupyter-widgets/controls",
      "_view_module_version": "1.5.0",
      "_view_name": "HTMLView",
      "description": "",
      "description_tooltip": null,
      "layout": "IPY_MODEL_3db90734520b4cc7b548bf6089b6387e",
      "placeholder": "​",
      "style": "IPY_MODEL_f722728030374d87838d763845959e2a",
      "value": "Downloading best.pt: 100%"
     }
    }
   }
  }
 },
 "nbformat": 4,
 "nbformat_minor": 4
}
