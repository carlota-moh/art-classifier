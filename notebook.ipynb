{
  "nbformat": 4,
  "nbformat_minor": 0,
  "metadata": {
    "colab": {
      "provenance": [],
      "collapsed_sections": [
        "lR3pXpNODl6O",
        "xoSXn0_IT56L",
        "8OWJ-Yc3UUVS",
        "3MQu7C9LUhB_",
        "ti1cPFEo-UJp"
      ]
    },
    "kernelspec": {
      "name": "python3",
      "display_name": "Python 3"
    },
    "language_info": {
      "name": "python"
    },
    "widgets": {
      "application/vnd.jupyter.widget-state+json": {
        "450ead2c848c480196daa0e0861f444a": {
          "model_module": "@jupyter-widgets/controls",
          "model_name": "HBoxModel",
          "model_module_version": "1.5.0",
          "state": {
            "_dom_classes": [],
            "_model_module": "@jupyter-widgets/controls",
            "_model_module_version": "1.5.0",
            "_model_name": "HBoxModel",
            "_view_count": null,
            "_view_module": "@jupyter-widgets/controls",
            "_view_module_version": "1.5.0",
            "_view_name": "HBoxView",
            "box_style": "",
            "children": [
              "IPY_MODEL_97911caec8624a87854963af967f7441",
              "IPY_MODEL_a44876bb83014b04bef98efecf8db9c3",
              "IPY_MODEL_2850f30fdf064bdeb46297601307db56"
            ],
            "layout": "IPY_MODEL_03aa47779fa642e791ab25dec68d334e"
          }
        },
        "97911caec8624a87854963af967f7441": {
          "model_module": "@jupyter-widgets/controls",
          "model_name": "HTMLModel",
          "model_module_version": "1.5.0",
          "state": {
            "_dom_classes": [],
            "_model_module": "@jupyter-widgets/controls",
            "_model_module_version": "1.5.0",
            "_model_name": "HTMLModel",
            "_view_count": null,
            "_view_module": "@jupyter-widgets/controls",
            "_view_module_version": "1.5.0",
            "_view_name": "HTMLView",
            "description": "",
            "description_tooltip": null,
            "layout": "IPY_MODEL_7faf0eb3aea6485cb257ad0c6114304c",
            "placeholder": "​",
            "style": "IPY_MODEL_31fe748383b44bcebe7315f2827a07ab",
            "value": "Downloading (…)lve/main/config.json: 100%"
          }
        },
        "a44876bb83014b04bef98efecf8db9c3": {
          "model_module": "@jupyter-widgets/controls",
          "model_name": "FloatProgressModel",
          "model_module_version": "1.5.0",
          "state": {
            "_dom_classes": [],
            "_model_module": "@jupyter-widgets/controls",
            "_model_module_version": "1.5.0",
            "_model_name": "FloatProgressModel",
            "_view_count": null,
            "_view_module": "@jupyter-widgets/controls",
            "_view_module_version": "1.5.0",
            "_view_name": "ProgressView",
            "bar_style": "success",
            "description": "",
            "description_tooltip": null,
            "layout": "IPY_MODEL_1f0a0f46f6fe4596b00ef40f31b8e147",
            "max": 195,
            "min": 0,
            "orientation": "horizontal",
            "style": "IPY_MODEL_8a00ea39e3af4ff191646cb0f3917f20",
            "value": 195
          }
        },
        "2850f30fdf064bdeb46297601307db56": {
          "model_module": "@jupyter-widgets/controls",
          "model_name": "HTMLModel",
          "model_module_version": "1.5.0",
          "state": {
            "_dom_classes": [],
            "_model_module": "@jupyter-widgets/controls",
            "_model_module_version": "1.5.0",
            "_model_name": "HTMLModel",
            "_view_count": null,
            "_view_module": "@jupyter-widgets/controls",
            "_view_module_version": "1.5.0",
            "_view_name": "HTMLView",
            "description": "",
            "description_tooltip": null,
            "layout": "IPY_MODEL_345e0766760d418a850d15ccbda658b5",
            "placeholder": "​",
            "style": "IPY_MODEL_02ee0d0e2df54bd7aa5627903bc01a6a",
            "value": " 195/195 [00:00&lt;00:00, 5.71kB/s]"
          }
        },
        "03aa47779fa642e791ab25dec68d334e": {
          "model_module": "@jupyter-widgets/base",
          "model_name": "LayoutModel",
          "model_module_version": "1.2.0",
          "state": {
            "_model_module": "@jupyter-widgets/base",
            "_model_module_version": "1.2.0",
            "_model_name": "LayoutModel",
            "_view_count": null,
            "_view_module": "@jupyter-widgets/base",
            "_view_module_version": "1.2.0",
            "_view_name": "LayoutView",
            "align_content": null,
            "align_items": null,
            "align_self": null,
            "border": null,
            "bottom": null,
            "display": null,
            "flex": null,
            "flex_flow": null,
            "grid_area": null,
            "grid_auto_columns": null,
            "grid_auto_flow": null,
            "grid_auto_rows": null,
            "grid_column": null,
            "grid_gap": null,
            "grid_row": null,
            "grid_template_areas": null,
            "grid_template_columns": null,
            "grid_template_rows": null,
            "height": null,
            "justify_content": null,
            "justify_items": null,
            "left": null,
            "margin": null,
            "max_height": null,
            "max_width": null,
            "min_height": null,
            "min_width": null,
            "object_fit": null,
            "object_position": null,
            "order": null,
            "overflow": null,
            "overflow_x": null,
            "overflow_y": null,
            "padding": null,
            "right": null,
            "top": null,
            "visibility": null,
            "width": null
          }
        },
        "7faf0eb3aea6485cb257ad0c6114304c": {
          "model_module": "@jupyter-widgets/base",
          "model_name": "LayoutModel",
          "model_module_version": "1.2.0",
          "state": {
            "_model_module": "@jupyter-widgets/base",
            "_model_module_version": "1.2.0",
            "_model_name": "LayoutModel",
            "_view_count": null,
            "_view_module": "@jupyter-widgets/base",
            "_view_module_version": "1.2.0",
            "_view_name": "LayoutView",
            "align_content": null,
            "align_items": null,
            "align_self": null,
            "border": null,
            "bottom": null,
            "display": null,
            "flex": null,
            "flex_flow": null,
            "grid_area": null,
            "grid_auto_columns": null,
            "grid_auto_flow": null,
            "grid_auto_rows": null,
            "grid_column": null,
            "grid_gap": null,
            "grid_row": null,
            "grid_template_areas": null,
            "grid_template_columns": null,
            "grid_template_rows": null,
            "height": null,
            "justify_content": null,
            "justify_items": null,
            "left": null,
            "margin": null,
            "max_height": null,
            "max_width": null,
            "min_height": null,
            "min_width": null,
            "object_fit": null,
            "object_position": null,
            "order": null,
            "overflow": null,
            "overflow_x": null,
            "overflow_y": null,
            "padding": null,
            "right": null,
            "top": null,
            "visibility": null,
            "width": null
          }
        },
        "31fe748383b44bcebe7315f2827a07ab": {
          "model_module": "@jupyter-widgets/controls",
          "model_name": "DescriptionStyleModel",
          "model_module_version": "1.5.0",
          "state": {
            "_model_module": "@jupyter-widgets/controls",
            "_model_module_version": "1.5.0",
            "_model_name": "DescriptionStyleModel",
            "_view_count": null,
            "_view_module": "@jupyter-widgets/base",
            "_view_module_version": "1.2.0",
            "_view_name": "StyleView",
            "description_width": ""
          }
        },
        "1f0a0f46f6fe4596b00ef40f31b8e147": {
          "model_module": "@jupyter-widgets/base",
          "model_name": "LayoutModel",
          "model_module_version": "1.2.0",
          "state": {
            "_model_module": "@jupyter-widgets/base",
            "_model_module_version": "1.2.0",
            "_model_name": "LayoutModel",
            "_view_count": null,
            "_view_module": "@jupyter-widgets/base",
            "_view_module_version": "1.2.0",
            "_view_name": "LayoutView",
            "align_content": null,
            "align_items": null,
            "align_self": null,
            "border": null,
            "bottom": null,
            "display": null,
            "flex": null,
            "flex_flow": null,
            "grid_area": null,
            "grid_auto_columns": null,
            "grid_auto_flow": null,
            "grid_auto_rows": null,
            "grid_column": null,
            "grid_gap": null,
            "grid_row": null,
            "grid_template_areas": null,
            "grid_template_columns": null,
            "grid_template_rows": null,
            "height": null,
            "justify_content": null,
            "justify_items": null,
            "left": null,
            "margin": null,
            "max_height": null,
            "max_width": null,
            "min_height": null,
            "min_width": null,
            "object_fit": null,
            "object_position": null,
            "order": null,
            "overflow": null,
            "overflow_x": null,
            "overflow_y": null,
            "padding": null,
            "right": null,
            "top": null,
            "visibility": null,
            "width": null
          }
        },
        "8a00ea39e3af4ff191646cb0f3917f20": {
          "model_module": "@jupyter-widgets/controls",
          "model_name": "ProgressStyleModel",
          "model_module_version": "1.5.0",
          "state": {
            "_model_module": "@jupyter-widgets/controls",
            "_model_module_version": "1.5.0",
            "_model_name": "ProgressStyleModel",
            "_view_count": null,
            "_view_module": "@jupyter-widgets/base",
            "_view_module_version": "1.2.0",
            "_view_name": "StyleView",
            "bar_color": null,
            "description_width": ""
          }
        },
        "345e0766760d418a850d15ccbda658b5": {
          "model_module": "@jupyter-widgets/base",
          "model_name": "LayoutModel",
          "model_module_version": "1.2.0",
          "state": {
            "_model_module": "@jupyter-widgets/base",
            "_model_module_version": "1.2.0",
            "_model_name": "LayoutModel",
            "_view_count": null,
            "_view_module": "@jupyter-widgets/base",
            "_view_module_version": "1.2.0",
            "_view_name": "LayoutView",
            "align_content": null,
            "align_items": null,
            "align_self": null,
            "border": null,
            "bottom": null,
            "display": null,
            "flex": null,
            "flex_flow": null,
            "grid_area": null,
            "grid_auto_columns": null,
            "grid_auto_flow": null,
            "grid_auto_rows": null,
            "grid_column": null,
            "grid_gap": null,
            "grid_row": null,
            "grid_template_areas": null,
            "grid_template_columns": null,
            "grid_template_rows": null,
            "height": null,
            "justify_content": null,
            "justify_items": null,
            "left": null,
            "margin": null,
            "max_height": null,
            "max_width": null,
            "min_height": null,
            "min_width": null,
            "object_fit": null,
            "object_position": null,
            "order": null,
            "overflow": null,
            "overflow_x": null,
            "overflow_y": null,
            "padding": null,
            "right": null,
            "top": null,
            "visibility": null,
            "width": null
          }
        },
        "02ee0d0e2df54bd7aa5627903bc01a6a": {
          "model_module": "@jupyter-widgets/controls",
          "model_name": "DescriptionStyleModel",
          "model_module_version": "1.5.0",
          "state": {
            "_model_module": "@jupyter-widgets/controls",
            "_model_module_version": "1.5.0",
            "_model_name": "DescriptionStyleModel",
            "_view_count": null,
            "_view_module": "@jupyter-widgets/base",
            "_view_module_version": "1.2.0",
            "_view_name": "StyleView",
            "description_width": ""
          }
        },
        "5150b2f053de477d91975a20a457f0c8": {
          "model_module": "@jupyter-widgets/controls",
          "model_name": "HBoxModel",
          "model_module_version": "1.5.0",
          "state": {
            "_dom_classes": [],
            "_model_module": "@jupyter-widgets/controls",
            "_model_module_version": "1.5.0",
            "_model_name": "HBoxModel",
            "_view_count": null,
            "_view_module": "@jupyter-widgets/controls",
            "_view_module_version": "1.5.0",
            "_view_name": "HBoxView",
            "box_style": "",
            "children": [
              "IPY_MODEL_ffaae567dc654fbeb49a50611cc2fc4b",
              "IPY_MODEL_e443c30603c84aa58586c085d2b3586f",
              "IPY_MODEL_0169658af7a2408d9f27366926734fab"
            ],
            "layout": "IPY_MODEL_8583137aa00d47d7a41fb3e1bb0fe52d"
          }
        },
        "ffaae567dc654fbeb49a50611cc2fc4b": {
          "model_module": "@jupyter-widgets/controls",
          "model_name": "HTMLModel",
          "model_module_version": "1.5.0",
          "state": {
            "_dom_classes": [],
            "_model_module": "@jupyter-widgets/controls",
            "_model_module_version": "1.5.0",
            "_model_name": "HTMLModel",
            "_view_count": null,
            "_view_module": "@jupyter-widgets/controls",
            "_view_module_version": "1.5.0",
            "_view_name": "HTMLView",
            "description": "",
            "description_tooltip": null,
            "layout": "IPY_MODEL_3db90734520b4cc7b548bf6089b6387e",
            "placeholder": "​",
            "style": "IPY_MODEL_f722728030374d87838d763845959e2a",
            "value": "Downloading best.pt: 100%"
          }
        },
        "e443c30603c84aa58586c085d2b3586f": {
          "model_module": "@jupyter-widgets/controls",
          "model_name": "FloatProgressModel",
          "model_module_version": "1.5.0",
          "state": {
            "_dom_classes": [],
            "_model_module": "@jupyter-widgets/controls",
            "_model_module_version": "1.5.0",
            "_model_name": "FloatProgressModel",
            "_view_count": null,
            "_view_module": "@jupyter-widgets/controls",
            "_view_module_version": "1.5.0",
            "_view_name": "ProgressView",
            "bar_style": "success",
            "description": "",
            "description_tooltip": null,
            "layout": "IPY_MODEL_23547cfbadf148a2ac146601b2c9620e",
            "max": 31736317,
            "min": 0,
            "orientation": "horizontal",
            "style": "IPY_MODEL_ef547df88f9741cbbbab48f2dfe35911",
            "value": 31736317
          }
        },
        "0169658af7a2408d9f27366926734fab": {
          "model_module": "@jupyter-widgets/controls",
          "model_name": "HTMLModel",
          "model_module_version": "1.5.0",
          "state": {
            "_dom_classes": [],
            "_model_module": "@jupyter-widgets/controls",
            "_model_module_version": "1.5.0",
            "_model_name": "HTMLModel",
            "_view_count": null,
            "_view_module": "@jupyter-widgets/controls",
            "_view_module_version": "1.5.0",
            "_view_name": "HTMLView",
            "description": "",
            "description_tooltip": null,
            "layout": "IPY_MODEL_0d5bb4458a7b4d2abab0f0f788f8a9b8",
            "placeholder": "​",
            "style": "IPY_MODEL_045594988d414928a36077060f89cc0d",
            "value": " 31.7M/31.7M [00:02&lt;00:00, 14.9MB/s]"
          }
        },
        "8583137aa00d47d7a41fb3e1bb0fe52d": {
          "model_module": "@jupyter-widgets/base",
          "model_name": "LayoutModel",
          "model_module_version": "1.2.0",
          "state": {
            "_model_module": "@jupyter-widgets/base",
            "_model_module_version": "1.2.0",
            "_model_name": "LayoutModel",
            "_view_count": null,
            "_view_module": "@jupyter-widgets/base",
            "_view_module_version": "1.2.0",
            "_view_name": "LayoutView",
            "align_content": null,
            "align_items": null,
            "align_self": null,
            "border": null,
            "bottom": null,
            "display": null,
            "flex": null,
            "flex_flow": null,
            "grid_area": null,
            "grid_auto_columns": null,
            "grid_auto_flow": null,
            "grid_auto_rows": null,
            "grid_column": null,
            "grid_gap": null,
            "grid_row": null,
            "grid_template_areas": null,
            "grid_template_columns": null,
            "grid_template_rows": null,
            "height": null,
            "justify_content": null,
            "justify_items": null,
            "left": null,
            "margin": null,
            "max_height": null,
            "max_width": null,
            "min_height": null,
            "min_width": null,
            "object_fit": null,
            "object_position": null,
            "order": null,
            "overflow": null,
            "overflow_x": null,
            "overflow_y": null,
            "padding": null,
            "right": null,
            "top": null,
            "visibility": null,
            "width": null
          }
        },
        "3db90734520b4cc7b548bf6089b6387e": {
          "model_module": "@jupyter-widgets/base",
          "model_name": "LayoutModel",
          "model_module_version": "1.2.0",
          "state": {
            "_model_module": "@jupyter-widgets/base",
            "_model_module_version": "1.2.0",
            "_model_name": "LayoutModel",
            "_view_count": null,
            "_view_module": "@jupyter-widgets/base",
            "_view_module_version": "1.2.0",
            "_view_name": "LayoutView",
            "align_content": null,
            "align_items": null,
            "align_self": null,
            "border": null,
            "bottom": null,
            "display": null,
            "flex": null,
            "flex_flow": null,
            "grid_area": null,
            "grid_auto_columns": null,
            "grid_auto_flow": null,
            "grid_auto_rows": null,
            "grid_column": null,
            "grid_gap": null,
            "grid_row": null,
            "grid_template_areas": null,
            "grid_template_columns": null,
            "grid_template_rows": null,
            "height": null,
            "justify_content": null,
            "justify_items": null,
            "left": null,
            "margin": null,
            "max_height": null,
            "max_width": null,
            "min_height": null,
            "min_width": null,
            "object_fit": null,
            "object_position": null,
            "order": null,
            "overflow": null,
            "overflow_x": null,
            "overflow_y": null,
            "padding": null,
            "right": null,
            "top": null,
            "visibility": null,
            "width": null
          }
        },
        "f722728030374d87838d763845959e2a": {
          "model_module": "@jupyter-widgets/controls",
          "model_name": "DescriptionStyleModel",
          "model_module_version": "1.5.0",
          "state": {
            "_model_module": "@jupyter-widgets/controls",
            "_model_module_version": "1.5.0",
            "_model_name": "DescriptionStyleModel",
            "_view_count": null,
            "_view_module": "@jupyter-widgets/base",
            "_view_module_version": "1.2.0",
            "_view_name": "StyleView",
            "description_width": ""
          }
        },
        "23547cfbadf148a2ac146601b2c9620e": {
          "model_module": "@jupyter-widgets/base",
          "model_name": "LayoutModel",
          "model_module_version": "1.2.0",
          "state": {
            "_model_module": "@jupyter-widgets/base",
            "_model_module_version": "1.2.0",
            "_model_name": "LayoutModel",
            "_view_count": null,
            "_view_module": "@jupyter-widgets/base",
            "_view_module_version": "1.2.0",
            "_view_name": "LayoutView",
            "align_content": null,
            "align_items": null,
            "align_self": null,
            "border": null,
            "bottom": null,
            "display": null,
            "flex": null,
            "flex_flow": null,
            "grid_area": null,
            "grid_auto_columns": null,
            "grid_auto_flow": null,
            "grid_auto_rows": null,
            "grid_column": null,
            "grid_gap": null,
            "grid_row": null,
            "grid_template_areas": null,
            "grid_template_columns": null,
            "grid_template_rows": null,
            "height": null,
            "justify_content": null,
            "justify_items": null,
            "left": null,
            "margin": null,
            "max_height": null,
            "max_width": null,
            "min_height": null,
            "min_width": null,
            "object_fit": null,
            "object_position": null,
            "order": null,
            "overflow": null,
            "overflow_x": null,
            "overflow_y": null,
            "padding": null,
            "right": null,
            "top": null,
            "visibility": null,
            "width": null
          }
        },
        "ef547df88f9741cbbbab48f2dfe35911": {
          "model_module": "@jupyter-widgets/controls",
          "model_name": "ProgressStyleModel",
          "model_module_version": "1.5.0",
          "state": {
            "_model_module": "@jupyter-widgets/controls",
            "_model_module_version": "1.5.0",
            "_model_name": "ProgressStyleModel",
            "_view_count": null,
            "_view_module": "@jupyter-widgets/base",
            "_view_module_version": "1.2.0",
            "_view_name": "StyleView",
            "bar_color": null,
            "description_width": ""
          }
        },
        "0d5bb4458a7b4d2abab0f0f788f8a9b8": {
          "model_module": "@jupyter-widgets/base",
          "model_name": "LayoutModel",
          "model_module_version": "1.2.0",
          "state": {
            "_model_module": "@jupyter-widgets/base",
            "_model_module_version": "1.2.0",
            "_model_name": "LayoutModel",
            "_view_count": null,
            "_view_module": "@jupyter-widgets/base",
            "_view_module_version": "1.2.0",
            "_view_name": "LayoutView",
            "align_content": null,
            "align_items": null,
            "align_self": null,
            "border": null,
            "bottom": null,
            "display": null,
            "flex": null,
            "flex_flow": null,
            "grid_area": null,
            "grid_auto_columns": null,
            "grid_auto_flow": null,
            "grid_auto_rows": null,
            "grid_column": null,
            "grid_gap": null,
            "grid_row": null,
            "grid_template_areas": null,
            "grid_template_columns": null,
            "grid_template_rows": null,
            "height": null,
            "justify_content": null,
            "justify_items": null,
            "left": null,
            "margin": null,
            "max_height": null,
            "max_width": null,
            "min_height": null,
            "min_width": null,
            "object_fit": null,
            "object_position": null,
            "order": null,
            "overflow": null,
            "overflow_x": null,
            "overflow_y": null,
            "padding": null,
            "right": null,
            "top": null,
            "visibility": null,
            "width": null
          }
        },
        "045594988d414928a36077060f89cc0d": {
          "model_module": "@jupyter-widgets/controls",
          "model_name": "DescriptionStyleModel",
          "model_module_version": "1.5.0",
          "state": {
            "_model_module": "@jupyter-widgets/controls",
            "_model_module_version": "1.5.0",
            "_model_name": "DescriptionStyleModel",
            "_view_count": null,
            "_view_module": "@jupyter-widgets/base",
            "_view_module_version": "1.2.0",
            "_view_name": "StyleView",
            "description_width": ""
          }
        }
      }
    }
  },
  "cells": [
    {
      "cell_type": "markdown",
      "source": [
        "# **Art Classifier**\n",
        "\n",
        "## **Non Structured Data**\n",
        "\n",
        "This project has been done by:\n",
        "\n",
        "|Name                    |Email                              |\n",
        "|------------------------|-----------------------------------|\n",
        "|Jorge Ayuso Martínez    |jorgeayusomartinez@alu.comillas.edu|\n",
        "|Carlota Monedero Herranz|carlotamoh@alu.comillas.edu        |\n",
        "|José Manuel Vega Gradit |josemanuel.vega@alu.comillas.edu   |"
      ],
      "metadata": {
        "id": "168YUOMq-SrL"
      }
    },
    {
      "cell_type": "markdown",
      "source": [
        "First of all, let's load the required libraries in order to run the code:"
      ],
      "metadata": {
        "id": "3w6rBQM0_o7T"
      }
    },
    {
      "cell_type": "code",
      "source": [
        "import os\n",
        "import numpy as np\n",
        "\n",
        "import tensorflow.keras as keras\n",
        "from tensorflow.keras import optimizers\n",
        "from tensorflow.keras import models, layers\n",
        "from tensorflow.keras.preprocessing import image\n",
        "from tensorflow.keras.preprocessing.image import ImageDataGenerator\n",
        "\n",
        "import matplotlib.pyplot as plt\n",
        "import seaborn as sns"
      ],
      "metadata": {
        "id": "Rh87ovI1-TCv"
      },
      "execution_count": 9,
      "outputs": []
    },
    {
      "cell_type": "markdown",
      "source": [
        "Once we have done so, let's mount Google Drive:"
      ],
      "metadata": {
        "id": "gX8t6OuPAmUu"
      }
    },
    {
      "cell_type": "code",
      "source": [
        "from google.colab import drive\n",
        "drive.mount('/content/drive')"
      ],
      "metadata": {
        "colab": {
          "base_uri": "https://localhost:8080/"
        },
        "id": "xquC0TGTAmaS",
        "outputId": "c534595e-bf15-49ba-a97b-c7a93fe04bd4"
      },
      "execution_count": 10,
      "outputs": [
        {
          "output_type": "stream",
          "name": "stdout",
          "text": [
            "Drive already mounted at /content/drive; to attempt to forcibly remount, call drive.mount(\"/content/drive\", force_remount=True).\n"
          ]
        }
      ]
    },
    {
      "cell_type": "markdown",
      "source": [
        "Now let's see how our data is structured:"
      ],
      "metadata": {
        "id": "D8x-hAiaAblq"
      }
    },
    {
      "cell_type": "code",
      "source": [
        "# Root folder\n",
        "base_dir = \"/content/drive/MyDrive/images/images\""
      ],
      "metadata": {
        "id": "pIfrW7zx-TEX"
      },
      "execution_count": 5,
      "outputs": []
    },
    {
      "cell_type": "code",
      "source": [
        "# Train folder\n",
        "train_dir = \"\"\n",
        "\n",
        "# Validation folder\n",
        "validation_dir = \"\"\n",
        "\n",
        "# Test folder\n",
        "test_dir = \"\""
      ],
      "metadata": {
        "id": "4A14qVrGMomZ"
      },
      "execution_count": null,
      "outputs": []
    },
    {
      "cell_type": "code",
      "source": [
        "# See folder names inside root folder\n",
        "for path in os.walk(base_dir):\n",
        "    for folder in path[1]:\n",
        "        print(folder)"
      ],
      "metadata": {
        "id": "SbUFXSW7-TGZ"
      },
      "execution_count": null,
      "outputs": []
    },
    {
      "cell_type": "markdown",
      "source": [
        "Let's also see how many images there are for each class in the training, validation and test set."
      ],
      "metadata": {
        "id": "FWvgTz7ejmF0"
      }
    },
    {
      "cell_type": "code",
      "source": [
        "# Number of classes\n",
        "n_classes = len(os.listdir(train_dir))\n",
        "print(f\"Number of classes: {n_classes}\")\n",
        "\n",
        "# Get existing classes\n",
        "classes = os.listdir(train_dir)\n",
        "print(\"Existing classes:\\n\")\n",
        "classes"
      ],
      "metadata": {
        "id": "oGDiubz2jmOT"
      },
      "execution_count": null,
      "outputs": []
    },
    {
      "cell_type": "code",
      "source": [
        "# Training\n",
        "print(\"Number of images per class in Training set:\")\n",
        "print(\"=\"*50)\n",
        "for cl in classes:\n",
        "    n_images = len(os.listdir(os.path.join(train_dir, cl)))\n",
        "    print(f\"{cl}: {n_images}\")"
      ],
      "metadata": {
        "id": "fmhnayouqYQl"
      },
      "execution_count": null,
      "outputs": []
    },
    {
      "cell_type": "code",
      "source": [
        "# Validation\n",
        "print(\"Number of images per class in Validation set:\")\n",
        "print(\"=\"*50)\n",
        "for cl in classes:\n",
        "    n_images = len(os.listdir(os.path.join(validation_dir, cl)))\n",
        "    print(f\"{cl}: {n_images}\")"
      ],
      "metadata": {
        "id": "_nBKldzsrTm1"
      },
      "execution_count": null,
      "outputs": []
    },
    {
      "cell_type": "code",
      "source": [
        "# Test\n",
        "print(\"Number of images per class in Test set:\")\n",
        "print(\"=\"*50)\n",
        "for cl in classes:\n",
        "    n_images = len(os.listdir(os.path.join(test_dir, cl)))\n",
        "    print(f\"{cl}: {n_images}\")"
      ],
      "metadata": {
        "id": "8aFWVYRKrTzw"
      },
      "execution_count": null,
      "outputs": []
    },
    {
      "cell_type": "markdown",
      "source": [
        "## **1. Base model**\n",
        "\n",
        "The first model we will create is a simple CNN. This will help us to have a general idea of how a very simple model would perform classifying art images, and try to improve this model by, for instance: \n",
        "\n",
        "* Upsampling the training dataset using Data Augmentation.\n",
        "* Using regularization techniques such as $𝓛_1$, $𝓛_2$ or dropout.\n",
        "* Incrementing the number of parameters of the CNN.\n",
        "* Using pre-trained models (Transfer-Learning and Fine-Tuning)."
      ],
      "metadata": {
        "id": "lR3pXpNODl6O"
      }
    },
    {
      "cell_type": "markdown",
      "source": [
        "### 1.1. Model structure\n",
        "\n",
        "Let's first create the model structure:"
      ],
      "metadata": {
        "id": "ksRFFq2-WgBw"
      }
    },
    {
      "cell_type": "code",
      "source": [
        "model = models.Sequential()\n",
        "# 1st Convolution Layer\n",
        "model.add(layers.Conv2D(32, (3, 3), activation='relu',\n",
        "                        input_shape=(150, 150, 3)\n",
        "                        )\n",
        ")\n",
        "# 1st Pooling Layer\n",
        "model.add(layers.MaxPooling2D((2, 2)))\n",
        "# 2nd Convolution Layer\n",
        "model.add(layers.Conv2D(64\n",
        "                        , (3, 3)\n",
        "                        , activation='relu'\n",
        "                        )\n",
        ")\n",
        "# 2nd Pooling Layer\n",
        "model.add(layers.MaxPooling2D((2, 2)))\n",
        "# 3rd Convolution Layer\n",
        "model.add(layers.Conv2D(128, \n",
        "                        (3, 3), \n",
        "                        activation='relu'\n",
        "                        )\n",
        ")\n",
        "# 3rd Pooling Layer\n",
        "model.add(layers.MaxPooling2D((2, 2)))\n",
        "# 4th Convolution Layer\n",
        "model.add(layers.Conv2D(128, \n",
        "                        (3, 3), \n",
        "                        activation='relu'\n",
        "                        )\n",
        ")\n",
        "# 4th Pooling Layer\n",
        "model.add(layers.MaxPooling2D((2, 2)))\n",
        "model.add(layers.Flatten())\n",
        "model.add(layers.Dense(512, activation='relu'))\n",
        "model.add(layers.Dense(10, activation='softmax'))"
      ],
      "metadata": {
        "id": "35S_bt4t-TIX"
      },
      "execution_count": null,
      "outputs": []
    },
    {
      "cell_type": "markdown",
      "source": [
        "Once the structure of the base model has been defined, let's see exactly how many parameters it has in order to have a better idea of how flexible this model is:"
      ],
      "metadata": {
        "id": "R9Juyt3rLCKk"
      }
    },
    {
      "cell_type": "code",
      "source": [
        "model.summary()"
      ],
      "metadata": {
        "id": "Zqn2mE-n-TKl"
      },
      "execution_count": null,
      "outputs": []
    },
    {
      "cell_type": "markdown",
      "source": [
        "We'll use Adam as our optimizer since it is the most popular optimizer right now, as well as versatile (i.e., it can be used in multiple contexts)."
      ],
      "metadata": {
        "id": "DB3cPq2nLVaR"
      }
    },
    {
      "cell_type": "code",
      "source": [
        "model.compile(\n",
        "    loss='binary_crossentropy',\n",
        "    optimizer=optimizers.Adam(lr=1e-4),\n",
        "    metrics=['acc']\n",
        ")"
      ],
      "metadata": {
        "id": "-PG_KXks-TMm"
      },
      "execution_count": null,
      "outputs": []
    },
    {
      "cell_type": "markdown",
      "source": [
        "### 1.2. Data preprocessing\n",
        "\n",
        "A critical step when creating these kind of models is how the input data is preprocessed. These involves:\n",
        "\n",
        "* Normalize the input by dividing each pixel by its maximum value (i.e, 255).\n",
        "* Define the input size, which affects to the final model.\n",
        "* Batch size: this is the number of images in each batch."
      ],
      "metadata": {
        "id": "q3I-ZQfNMUej"
      }
    },
    {
      "cell_type": "code",
      "source": [
        "# All images will be rescaled by 1./255\n",
        "train_datagen = ImageDataGenerator(rescale=1./255)\n",
        "test_datagen = ImageDataGenerator(rescale=1./255)\n",
        "\n",
        "train_generator = train_datagen.flow_from_directory(\n",
        "        # This is the target directory\n",
        "        train_dir,\n",
        "        # All images will be resized to 150x150\n",
        "        target_size=(150, 150),\n",
        "        batch_size=20,\n",
        "        # We use raw to get predicted probabilities\n",
        "        class_mode='raw'\n",
        "        )\n",
        "\n",
        "validation_generator = test_datagen.flow_from_directory(\n",
        "        validation_dir,\n",
        "        target_size=(150, 150),\n",
        "        batch_size=20,\n",
        "        class_mode='raw'\n",
        "        )"
      ],
      "metadata": {
        "id": "rF9cfUPS-TO1"
      },
      "execution_count": null,
      "outputs": []
    },
    {
      "cell_type": "markdown",
      "source": [
        "Now let's take a look at the output of one of these generators (for instance, the training one):"
      ],
      "metadata": {
        "id": "3y0iM-VXQovT"
      }
    },
    {
      "cell_type": "code",
      "source": [
        "for data_batch, labels_batch in train_generator:\n",
        "    print('data batch shape:', data_batch.shape)\n",
        "    print('labels batch shape:', labels_batch.shape)\n",
        "    break"
      ],
      "metadata": {
        "id": "1Jf4AvO_-TRW"
      },
      "execution_count": null,
      "outputs": []
    },
    {
      "cell_type": "markdown",
      "source": [
        "*We can appreciate that...*"
      ],
      "metadata": {
        "id": "C7W1pa92Q3MK"
      }
    },
    {
      "cell_type": "markdown",
      "source": [
        "### 1.3. Training\n",
        "\n",
        "Let's train the model:"
      ],
      "metadata": {
        "id": "ZoO2Da0IR51Y"
      }
    },
    {
      "cell_type": "code",
      "source": [
        "history = model.fit_generator(\n",
        "      train_generator,\n",
        "      steps_per_epoch=100,\n",
        "      epochs=3,\n",
        "      validation_data=validation_generator,\n",
        "      validation_steps=50\n",
        "      )"
      ],
      "metadata": {
        "id": "wrYxrr1OQ6qH"
      },
      "execution_count": null,
      "outputs": []
    },
    {
      "cell_type": "markdown",
      "source": [
        "And once the model has been trained, we will save it:"
      ],
      "metadata": {
        "id": "nP1qkE26SCvp"
      }
    },
    {
      "cell_type": "code",
      "source": [
        "# Create directory where to save the models created\n",
        "models_dir = \"/content/drive/MyDrive/models\"\n",
        "os.makedirs(models_dir, exist_ok=True)\n",
        "\n",
        "# Directory where to save the model\n",
        "\n",
        "# Save model\n",
        "base_model_dir = os.path.join(models_dir, \"model_v0.h5\")\n",
        "model.save(base_model_dir)"
      ],
      "metadata": {
        "id": "R6ScrxYY-TTQ"
      },
      "execution_count": null,
      "outputs": []
    },
    {
      "cell_type": "markdown",
      "source": [
        "### 1.4. Validation\n",
        "\n",
        "Let's plot how the loss and the accuracy from both training and validations sets have evolved during the training process. "
      ],
      "metadata": {
        "id": "JWuATgMUS8bI"
      }
    },
    {
      "cell_type": "code",
      "source": [
        "acc = history.history['acc']\n",
        "val_acc = history.history['val_acc']\n",
        "loss = history.history['loss']\n",
        "val_loss = history.history['val_loss']\n",
        "\n",
        "epochs = range(len(acc))\n",
        "\n",
        "plt.plot(epochs, acc, 'bo', label='Training acc')\n",
        "plt.plot(epochs, val_acc, 'b', label='Validation acc')\n",
        "plt.title('Training and validation accuracy')\n",
        "plt.legend()\n",
        "\n",
        "plt.figure()\n",
        "\n",
        "plt.plot(epochs, loss, 'bo', label='Training loss')\n",
        "plt.plot(epochs, val_loss, 'b', label='Validation loss')\n",
        "plt.title('Training and validation loss')\n",
        "plt.legend()\n",
        "\n",
        "plt.show()"
      ],
      "metadata": {
        "id": "kXvSCIRP-TVZ"
      },
      "execution_count": null,
      "outputs": []
    },
    {
      "cell_type": "markdown",
      "source": [
        "*Comments about how those metrics have evolved...*"
      ],
      "metadata": {
        "id": "pQg4z_l8Tbj9"
      }
    },
    {
      "cell_type": "markdown",
      "source": [
        "## **2. Including Dropout**\n",
        "\n",
        "*Explain dropout, include reference to original paper*"
      ],
      "metadata": {
        "id": "xoSXn0_IT56L"
      }
    },
    {
      "cell_type": "markdown",
      "source": [
        "### 2.1. Model structure\n",
        "\n",
        "Let's first create the model structure:"
      ],
      "metadata": {
        "id": "FCXdq7tnWl7M"
      }
    },
    {
      "cell_type": "code",
      "source": [
        "model = models.Sequential()\n",
        "# 1st Convolution Layer\n",
        "model.add(layers.Conv2D(32, (3, 3), activation='relu',\n",
        "                        input_shape=(150, 150, 3)\n",
        "                        )\n",
        ")\n",
        "# 1st Pooling Layer\n",
        "model.add(layers.MaxPooling2D((2, 2)))\n",
        "# 2nd Convolution Layer\n",
        "model.add(layers.Conv2D(64, \n",
        "                        (3, 3), \n",
        "                        activation='relu'\n",
        "                        )\n",
        ")\n",
        "# 2nd Pooling Layer\n",
        "model.add(layers.MaxPooling2D((2, 2)))\n",
        "# 3rd Convolution Layer\n",
        "model.add(layers.Conv2D(128, \n",
        "                        (3, 3), \n",
        "                        activation='relu'\n",
        "                        )\n",
        ")\n",
        "# 3rd Pooling Layer\n",
        "model.add(layers.MaxPooling2D((2, 2)))\n",
        "# 4th Convolution Layer\n",
        "model.add(layers.Conv2D(128, \n",
        "                        (3, 3), \n",
        "                        activation='relu'\n",
        "                        )\n",
        ")\n",
        "# 4th Pooling Layer\n",
        "model.add(layers.MaxPooling2D((2, 2)))\n",
        "model.add(layers.Flatten())\n",
        "model.add(layers.Dropout(0.5))\n",
        "model.add(layers.Dense(512, activation='relu'))\n",
        "model.add(layers.Dense(10, activation='softmax'))"
      ],
      "metadata": {
        "id": "Llo1zPv_Wl7M"
      },
      "execution_count": null,
      "outputs": []
    },
    {
      "cell_type": "markdown",
      "source": [
        "Once the structure of the base model has been defined, let's see exactly how many parameters it has in order to have a better idea of how flexible this model is:"
      ],
      "metadata": {
        "id": "ElGJKWO1Wl7M"
      }
    },
    {
      "cell_type": "code",
      "source": [
        "model.summary()"
      ],
      "metadata": {
        "id": "1ME-cjFbWl7M"
      },
      "execution_count": null,
      "outputs": []
    },
    {
      "cell_type": "markdown",
      "source": [
        "We'll use Adam as our optimizer, as well as we have done previously due to the reasons already mentioned."
      ],
      "metadata": {
        "id": "4P6SbFRRWl7M"
      }
    },
    {
      "cell_type": "code",
      "source": [
        "model.compile(\n",
        "    loss='binary_crossentropy',\n",
        "    optimizer=optimizers.Adam(lr=1e-4),\n",
        "    metrics=['acc']\n",
        ")"
      ],
      "metadata": {
        "id": "I-FywaaMWl7M"
      },
      "execution_count": null,
      "outputs": []
    },
    {
      "cell_type": "markdown",
      "source": [
        "### 2.2. Data preprocessing\n",
        "\n",
        "We'll apply the same preprocess steps we have performed for the base model."
      ],
      "metadata": {
        "id": "beB6fVRSWl7M"
      }
    },
    {
      "cell_type": "code",
      "source": [
        "# All images will be rescaled by 1./255\n",
        "train_datagen = ImageDataGenerator(rescale=1./255)\n",
        "test_datagen = ImageDataGenerator(rescale=1./255)\n",
        "\n",
        "train_generator = train_datagen.flow_from_directory(\n",
        "        # This is the target directory\n",
        "        train_dir,\n",
        "        # All images will be resized to 150x150\n",
        "        target_size=(150, 150),\n",
        "        batch_size=20,\n",
        "        # We use raw to get predicted probabilities\n",
        "        class_mode='raw'\n",
        "        )\n",
        "\n",
        "validation_generator = test_datagen.flow_from_directory(\n",
        "        validation_dir,\n",
        "        target_size=(150, 150),\n",
        "        batch_size=20,\n",
        "        class_mode='raw'\n",
        "        )"
      ],
      "metadata": {
        "id": "T4E-rRiCWl7M"
      },
      "execution_count": null,
      "outputs": []
    },
    {
      "cell_type": "markdown",
      "source": [
        "### 2.3. Training\n",
        "\n",
        "Let's train the model:"
      ],
      "metadata": {
        "id": "ecS3PKybWl7N"
      }
    },
    {
      "cell_type": "code",
      "source": [
        "history = model.fit_generator(\n",
        "      train_generator,\n",
        "      steps_per_epoch=100,\n",
        "      epochs=3,\n",
        "      validation_data=validation_generator,\n",
        "      validation_steps=50\n",
        "      )"
      ],
      "metadata": {
        "id": "5mNxwK2EWl7N"
      },
      "execution_count": null,
      "outputs": []
    },
    {
      "cell_type": "markdown",
      "source": [
        "And once the model has been trained, we will save it:"
      ],
      "metadata": {
        "id": "1MtTXyZDWl7N"
      }
    },
    {
      "cell_type": "code",
      "source": [
        "# Create directory where to save the models created\n",
        "models_dir = \"/content/drive/MyDrive/models\"\n",
        "os.makedirs(models_dir, exist_ok=True)\n",
        "\n",
        "# Directory where to save the model\n",
        "\n",
        "# Save model\n",
        "base_model_dir = os.path.join(models_dir, \"model_v1.h5\")\n",
        "model.save(base_model_dir)"
      ],
      "metadata": {
        "id": "mlwE_kSYWl7N"
      },
      "execution_count": null,
      "outputs": []
    },
    {
      "cell_type": "markdown",
      "source": [
        "### 2.4. Validation\n",
        "\n",
        "Let's plot how the loss and the accuracy from both training and validations sets have evolved during the training process. "
      ],
      "metadata": {
        "id": "IApKABQIWl7N"
      }
    },
    {
      "cell_type": "code",
      "source": [
        "acc = history.history['acc']\n",
        "val_acc = history.history['val_acc']\n",
        "loss = history.history['loss']\n",
        "val_loss = history.history['val_loss']\n",
        "\n",
        "epochs = range(len(acc))\n",
        "\n",
        "plt.plot(epochs, acc, 'bo', label='Training acc')\n",
        "plt.plot(epochs, val_acc, 'b', label='Validation acc')\n",
        "plt.title('Training and validation accuracy')\n",
        "plt.legend()\n",
        "\n",
        "plt.figure()\n",
        "\n",
        "plt.plot(epochs, loss, 'bo', label='Training loss')\n",
        "plt.plot(epochs, val_loss, 'b', label='Validation loss')\n",
        "plt.title('Training and validation loss')\n",
        "plt.legend()\n",
        "\n",
        "plt.show()"
      ],
      "metadata": {
        "id": "pJCKEreCWl7N"
      },
      "execution_count": null,
      "outputs": []
    },
    {
      "cell_type": "markdown",
      "source": [
        "*Comments about how those metrics have evolved... and compare them with prior results.*"
      ],
      "metadata": {
        "id": "NUF7RngaWl7N"
      }
    },
    {
      "cell_type": "markdown",
      "source": [
        "## **3. Including Data Augmentation**\n",
        "\n",
        "*Explain Data Augmentation, reference some website or paper which talks about this technique.*"
      ],
      "metadata": {
        "id": "8OWJ-Yc3UUVS"
      }
    },
    {
      "cell_type": "markdown",
      "source": [
        "### 3.1. Model structure\n",
        "\n",
        "Let's first create the model structure:"
      ],
      "metadata": {
        "id": "PsXHopqbX-go"
      }
    },
    {
      "cell_type": "code",
      "source": [
        "model = models.Sequential()\n",
        "# 1st Convolution Layer\n",
        "model.add(layers.Conv2D(32, (3, 3), activation='relu',\n",
        "                        input_shape=(150, 150, 3)\n",
        "                        )\n",
        ")\n",
        "# 1st Pooling Layer\n",
        "model.add(layers.MaxPooling2D((2, 2)))\n",
        "# 2nd Convolution Layer\n",
        "model.add(layers.Conv2D(64, \n",
        "                        (3, 3), \n",
        "                        activation='relu'\n",
        "                        )\n",
        ")\n",
        "# 2nd Pooling Layer\n",
        "model.add(layers.MaxPooling2D((2, 2)))\n",
        "# 3rd Convolution Layer\n",
        "model.add(layers.Conv2D(128, \n",
        "                        (3, 3), \n",
        "                        activation='relu'\n",
        "                        )\n",
        ")\n",
        "# 3rd Pooling Layer\n",
        "model.add(layers.MaxPooling2D((2, 2)))\n",
        "# 4th Convolution Layer\n",
        "model.add(layers.Conv2D(128, \n",
        "                        (3, 3), \n",
        "                        activation='relu'\n",
        "                        )\n",
        ")\n",
        "# 4th Pooling Layer\n",
        "model.add(layers.MaxPooling2D((2, 2)))\n",
        "model.add(layers.Flatten())\n",
        "model.add(layers.Dropout(0.5))\n",
        "model.add(layers.Dense(512, activation='relu'))\n",
        "model.add(layers.Dense(10, activation='softmax'))"
      ],
      "metadata": {
        "id": "1HrSh5y_X-go"
      },
      "execution_count": null,
      "outputs": []
    },
    {
      "cell_type": "markdown",
      "source": [
        "Once the structure of the base model has been defined, let's see exactly how many parameters it has in order to have a better idea of how flexible this model is:"
      ],
      "metadata": {
        "id": "VV6YcQ0uX-go"
      }
    },
    {
      "cell_type": "code",
      "source": [
        "model.summary()"
      ],
      "metadata": {
        "id": "_DvKcBQzX-go"
      },
      "execution_count": null,
      "outputs": []
    },
    {
      "cell_type": "markdown",
      "source": [
        "We'll use Adam as our optimizer, as well as we have done previously due to the reasons already mentioned."
      ],
      "metadata": {
        "id": "EpCZe4O1X-go"
      }
    },
    {
      "cell_type": "code",
      "source": [
        "model.compile(\n",
        "    loss='binary_crossentropy',\n",
        "    optimizer=optimizers.Adam(lr=1e-4),\n",
        "    metrics=['acc']\n",
        ")"
      ],
      "metadata": {
        "id": "qA-8CNmxX-go"
      },
      "execution_count": null,
      "outputs": []
    },
    {
      "cell_type": "markdown",
      "source": [
        "### 3.2. Data preprocessing\n",
        "\n",
        "In this case, we will include the Data Augmentation step to the model preprocessing step..."
      ],
      "metadata": {
        "id": "3LQutoiDX-go"
      }
    },
    {
      "cell_type": "code",
      "source": [
        "train_datagen = ImageDataGenerator(\n",
        "    rescale=1./255,\n",
        "    rotation_range=40,\n",
        "    width_shift_range=0.2,\n",
        "    height_shift_range=0.2,\n",
        "    shear_range=0.2,\n",
        "    zoom_range=0.2,\n",
        "    horizontal_flip=True,\n",
        "    )\n",
        "\n",
        "# The data augmentation must not be used for the test set!\n",
        "test_datagen = ImageDataGenerator(rescale=1./255)\n",
        "\n",
        "train_generator = train_datagen.flow_from_directory(\n",
        "        # This is the target directory\n",
        "        train_dir,\n",
        "        # All images will be resized to 150x150\n",
        "        target_size=(150, 150),\n",
        "        batch_size=20,\n",
        "        # We use raw to get predicted probabilities\n",
        "        class_mode='raw'\n",
        "        )\n",
        "\n",
        "validation_generator = test_datagen.flow_from_directory(\n",
        "        validation_dir,\n",
        "        target_size=(150, 150),\n",
        "        batch_size=20,\n",
        "        class_mode='raw'\n",
        "        )"
      ],
      "metadata": {
        "id": "8Ir1biHEX-go"
      },
      "execution_count": null,
      "outputs": []
    },
    {
      "cell_type": "markdown",
      "source": [
        "### 3.3. Training\n",
        "\n",
        "Let's train the model:"
      ],
      "metadata": {
        "id": "aA2NVED3X-go"
      }
    },
    {
      "cell_type": "code",
      "source": [
        "history = model.fit_generator(\n",
        "      train_generator,\n",
        "      steps_per_epoch=100,\n",
        "      epochs=3,\n",
        "      validation_data=validation_generator,\n",
        "      validation_steps=50\n",
        "      )"
      ],
      "metadata": {
        "id": "YJ2vPT9cX-go"
      },
      "execution_count": null,
      "outputs": []
    },
    {
      "cell_type": "markdown",
      "source": [
        "And once the model has been trained, we will save it:"
      ],
      "metadata": {
        "id": "oGYrWIOgX-gp"
      }
    },
    {
      "cell_type": "code",
      "source": [
        "# Create directory where to save the models created\n",
        "models_dir = \"/content/drive/MyDrive/models\"\n",
        "os.makedirs(models_dir, exist_ok=True)\n",
        "\n",
        "# Directory where to save the model\n",
        "\n",
        "# Save model\n",
        "base_model_dir = os.path.join(models_dir, \"model_v2.h5\")\n",
        "model.save(base_model_dir)"
      ],
      "metadata": {
        "id": "8152rHNRX-gp"
      },
      "execution_count": null,
      "outputs": []
    },
    {
      "cell_type": "markdown",
      "source": [
        "### 3.4. Validation\n",
        "\n",
        "Let's plot how the loss and the accuracy from both training and validations sets have evolved during the training process. "
      ],
      "metadata": {
        "id": "O1le0N-mX-gp"
      }
    },
    {
      "cell_type": "code",
      "source": [
        "acc = history.history['acc']\n",
        "val_acc = history.history['val_acc']\n",
        "loss = history.history['loss']\n",
        "val_loss = history.history['val_loss']\n",
        "\n",
        "epochs = range(len(acc))\n",
        "\n",
        "plt.plot(epochs, acc, 'bo', label='Training acc')\n",
        "plt.plot(epochs, val_acc, 'b', label='Validation acc')\n",
        "plt.title('Training and validation accuracy')\n",
        "plt.legend()\n",
        "\n",
        "plt.figure()\n",
        "\n",
        "plt.plot(epochs, loss, 'bo', label='Training loss')\n",
        "plt.plot(epochs, val_loss, 'b', label='Validation loss')\n",
        "plt.title('Training and validation loss')\n",
        "plt.legend()\n",
        "\n",
        "plt.show()"
      ],
      "metadata": {
        "id": "PZ2As2CbX-gp"
      },
      "execution_count": null,
      "outputs": []
    },
    {
      "cell_type": "markdown",
      "source": [
        "*Comments about how those metrics have evolved... and compare those with prior results*"
      ],
      "metadata": {
        "id": "M7U_CfHYX-gp"
      }
    },
    {
      "cell_type": "markdown",
      "source": [
        "## **4. Model from scratch with best combination of hyperparameters found**"
      ],
      "metadata": {
        "id": "3MQu7C9LUhB_"
      }
    },
    {
      "cell_type": "markdown",
      "source": [
        "### 4.1. Model structure\n",
        "\n",
        "Let's first create the model structure:"
      ],
      "metadata": {
        "id": "Hf_ybj47ZnP2"
      }
    },
    {
      "cell_type": "code",
      "source": [
        "model = models.Sequential()\n",
        "# 1st Convolution Layer\n",
        "model.add(layers.Conv2D(32, (3, 3), activation='relu',\n",
        "                        input_shape=(150, 150, 3)\n",
        "                        )\n",
        ")\n",
        "# 1st Pooling Layer\n",
        "model.add(layers.MaxPooling2D((2, 2)))\n",
        "# 2nd Convolution Layer\n",
        "model.add(layers.Conv2D(64, \n",
        "                        (3, 3), \n",
        "                        activation='relu'\n",
        "                        )\n",
        ")\n",
        "# 2nd Pooling Layer\n",
        "model.add(layers.MaxPooling2D((2, 2)))\n",
        "# 3rd Convolution Layer\n",
        "model.add(layers.Conv2D(128, \n",
        "                        (3, 3), \n",
        "                        activation='relu'\n",
        "                        )\n",
        ")\n",
        "# 3rd Pooling Layer\n",
        "model.add(layers.MaxPooling2D((2, 2)))\n",
        "# 4th Convolution Layer\n",
        "model.add(layers.Conv2D(128, \n",
        "                        (3, 3), \n",
        "                        activation='relu'\n",
        "                        )\n",
        ")\n",
        "# 4th Pooling Layer\n",
        "model.add(layers.MaxPooling2D((2, 2)))\n",
        "model.add(layers.Flatten())\n",
        "model.add(layers.Dropout(0.5))\n",
        "model.add(layers.Dense(512, activation='relu'))\n",
        "model.add(layers.Dense(10, activation='softmax'))"
      ],
      "metadata": {
        "id": "oUWvxCgCZnP2"
      },
      "execution_count": null,
      "outputs": []
    },
    {
      "cell_type": "markdown",
      "source": [
        "Once the structure of the base model has been defined, let's see exactly how many parameters it has in order to have a better idea of how flexible this model is:"
      ],
      "metadata": {
        "id": "ZGXLW0KxZnP2"
      }
    },
    {
      "cell_type": "code",
      "source": [
        "model.summary()"
      ],
      "metadata": {
        "id": "hPGwaEjQZnP3"
      },
      "execution_count": null,
      "outputs": []
    },
    {
      "cell_type": "markdown",
      "source": [
        "We'll use Adam as our optimizer, as well as we have done previouly due to the reasons already mentioned."
      ],
      "metadata": {
        "id": "FkSQ7ZDGZnP3"
      }
    },
    {
      "cell_type": "code",
      "source": [
        "model.compile(\n",
        "    loss='binary_crossentropy',\n",
        "    optimizer=optimizers.Adam(lr=1e-4),\n",
        "    metrics=['acc']\n",
        ")"
      ],
      "metadata": {
        "id": "cmYo3_SsZnP3"
      },
      "execution_count": null,
      "outputs": []
    },
    {
      "cell_type": "markdown",
      "source": [
        "### 4.2. Data preprocessing\n",
        "\n",
        "We'll apply the same preprocess steps we have performed for the base model."
      ],
      "metadata": {
        "id": "M-JPRAfqZnP3"
      }
    },
    {
      "cell_type": "code",
      "source": [
        "train_datagen = ImageDataGenerator(\n",
        "    rescale=1./255,\n",
        "    rotation_range=40,\n",
        "    width_shift_range=0.2,\n",
        "    height_shift_range=0.2,\n",
        "    shear_range=0.2,\n",
        "    zoom_range=0.2,\n",
        "    horizontal_flip=True,)\n",
        "\n",
        "# The data augmentation must not be used for the test set!\n",
        "test_datagen = ImageDataGenerator(rescale=1./255)\n",
        "\n",
        "train_generator = train_datagen.flow_from_directory(\n",
        "        # This is the target directory\n",
        "        train_dir,\n",
        "        # All images will be resized to 150x150\n",
        "        target_size=(150, 150),\n",
        "        batch_size=20,\n",
        "        # We use raw to get predicted probabilities\n",
        "        class_mode='raw'\n",
        "        )\n",
        "\n",
        "validation_generator = test_datagen.flow_from_directory(\n",
        "        validation_dir,\n",
        "        target_size=(150, 150),\n",
        "        batch_size=20,\n",
        "        class_mode='raw'\n",
        "        )"
      ],
      "metadata": {
        "id": "ov6Aev_rZnP3"
      },
      "execution_count": null,
      "outputs": []
    },
    {
      "cell_type": "markdown",
      "source": [
        "### 4.3. Training\n",
        "\n",
        "Let's train the model:"
      ],
      "metadata": {
        "id": "5F-4EdHRZnP3"
      }
    },
    {
      "cell_type": "code",
      "source": [
        "history = model.fit_generator(\n",
        "      train_generator,\n",
        "      steps_per_epoch=100,\n",
        "      epochs=3,\n",
        "      validation_data=validation_generator,\n",
        "      validation_steps=50\n",
        "      )"
      ],
      "metadata": {
        "id": "5ryEcEIuZnP3"
      },
      "execution_count": null,
      "outputs": []
    },
    {
      "cell_type": "markdown",
      "source": [
        "And once the model has been trained, we will save it:"
      ],
      "metadata": {
        "id": "2pCMMwr3ZnP3"
      }
    },
    {
      "cell_type": "code",
      "source": [
        "# Create directory where to save the models created\n",
        "models_dir = \"/content/drive/MyDrive/models\"\n",
        "os.makedirs(models_dir, exist_ok=True)\n",
        "\n",
        "# Directory where to save the model\n",
        "\n",
        "# Save model\n",
        "base_model_dir = os.path.join(models_dir, \"model_v3.h5\")\n",
        "model.save(base_model_dir)"
      ],
      "metadata": {
        "id": "bTpsBYCoZnP3"
      },
      "execution_count": null,
      "outputs": []
    },
    {
      "cell_type": "markdown",
      "source": [
        "### 4.4. Validation\n",
        "\n",
        "Let's plot how the loss and the accuracy from both training and validations sets have evolved during the training process. "
      ],
      "metadata": {
        "id": "PveErd0mZnP3"
      }
    },
    {
      "cell_type": "code",
      "source": [
        "acc = history.history['acc']\n",
        "val_acc = history.history['val_acc']\n",
        "loss = history.history['loss']\n",
        "val_loss = history.history['val_loss']\n",
        "\n",
        "epochs = range(len(acc))\n",
        "\n",
        "plt.plot(epochs, acc, 'bo', label='Training acc')\n",
        "plt.plot(epochs, val_acc, 'b', label='Validation acc')\n",
        "plt.title('Training and validation accuracy')\n",
        "plt.legend()\n",
        "\n",
        "plt.figure()\n",
        "\n",
        "plt.plot(epochs, loss, 'bo', label='Training loss')\n",
        "plt.plot(epochs, val_loss, 'b', label='Validation loss')\n",
        "plt.title('Training and validation loss')\n",
        "plt.legend()\n",
        "\n",
        "plt.show()"
      ],
      "metadata": {
        "id": "M4aIcM-GZnP3"
      },
      "execution_count": null,
      "outputs": []
    },
    {
      "cell_type": "markdown",
      "source": [
        "*Comments about how those metrics have evolved...*"
      ],
      "metadata": {
        "id": "6_XG6Mz5ZnP3"
      }
    },
    {
      "cell_type": "markdown",
      "source": [
        "## **5. Fine-tuning**\n",
        "\n",
        "We will use a pretrained model in order to compare its results with the results obtained with the models trained from scratch we already trained. Specifically, we will train a pretrained model found in Hugging Face which has "
      ],
      "metadata": {
        "id": "ti1cPFEo-UJp"
      }
    },
    {
      "cell_type": "markdown",
      "source": [
        "First of all let's install the required libraries needed to run the pretrained model."
      ],
      "metadata": {
        "id": "Q7qs_G1dfZbP"
      }
    },
    {
      "cell_type": "code",
      "source": [
        "!pip install ultralyticsplus==0.0.24 ultralytics==8.0.23"
      ],
      "metadata": {
        "id": "PtJSuhX5WWGA"
      },
      "execution_count": null,
      "outputs": []
    },
    {
      "cell_type": "code",
      "source": [
        "from ultralyticsplus import YOLO, postprocess_classify_output\n",
        "\n",
        "# load model\n",
        "model = YOLO('keremberke/yolov8m-painting-classification')"
      ],
      "metadata": {
        "colab": {
          "base_uri": "https://localhost:8080/",
          "height": 81,
          "referenced_widgets": [
            "450ead2c848c480196daa0e0861f444a",
            "97911caec8624a87854963af967f7441",
            "a44876bb83014b04bef98efecf8db9c3",
            "2850f30fdf064bdeb46297601307db56",
            "03aa47779fa642e791ab25dec68d334e",
            "7faf0eb3aea6485cb257ad0c6114304c",
            "31fe748383b44bcebe7315f2827a07ab",
            "1f0a0f46f6fe4596b00ef40f31b8e147",
            "8a00ea39e3af4ff191646cb0f3917f20",
            "345e0766760d418a850d15ccbda658b5",
            "02ee0d0e2df54bd7aa5627903bc01a6a",
            "5150b2f053de477d91975a20a457f0c8",
            "ffaae567dc654fbeb49a50611cc2fc4b",
            "e443c30603c84aa58586c085d2b3586f",
            "0169658af7a2408d9f27366926734fab",
            "8583137aa00d47d7a41fb3e1bb0fe52d",
            "3db90734520b4cc7b548bf6089b6387e",
            "f722728030374d87838d763845959e2a",
            "23547cfbadf148a2ac146601b2c9620e",
            "ef547df88f9741cbbbab48f2dfe35911",
            "0d5bb4458a7b4d2abab0f0f788f8a9b8",
            "045594988d414928a36077060f89cc0d"
          ]
        },
        "id": "nexuZ0EehEFL",
        "outputId": "8453dfe2-1733-4eda-cb3e-876c420a072a"
      },
      "execution_count": 8,
      "outputs": [
        {
          "output_type": "display_data",
          "data": {
            "text/plain": [
              "Downloading (…)lve/main/config.json:   0%|          | 0.00/195 [00:00<?, ?B/s]"
            ],
            "application/vnd.jupyter.widget-view+json": {
              "version_major": 2,
              "version_minor": 0,
              "model_id": "450ead2c848c480196daa0e0861f444a"
            }
          },
          "metadata": {}
        },
        {
          "output_type": "display_data",
          "data": {
            "text/plain": [
              "Downloading best.pt:   0%|          | 0.00/31.7M [00:00<?, ?B/s]"
            ],
            "application/vnd.jupyter.widget-view+json": {
              "version_major": 2,
              "version_minor": 0,
              "model_id": "5150b2f053de477d91975a20a457f0c8"
            }
          },
          "metadata": {}
        }
      ]
    },
    {
      "cell_type": "markdown",
      "source": [
        "*Useful links for this model:*\n",
        "\n",
        "[Hugging Face model link](https://huggingface.co/keremberke/yolov8m-painting-classification)\n",
        "\n",
        "[Awesome Yolov8 models website](https://yolov8.xyz/#/?id=classification-models)\n",
        "\n",
        "[Yolov8 GitHub page](https://github.com/ultralytics/ultralytics/blob/main/examples/tutorial.ipynb)\n",
        "\n",
        "[Ultralytics website](https://docs.ultralytics.com/python/)"
      ],
      "metadata": {
        "id": "3A9XBd1chqp5"
      }
    }
  ]
}